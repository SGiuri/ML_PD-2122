{
 "cells": [
  {
   "cell_type": "markdown",
   "metadata": {
    "collapsed": true,
    "pycharm": {
     "name": "#%% md\n"
    }
   },
   "source": [
    "# Programmazione orientata agli Oggetti: OOP, Object Oriented Programming"
   ]
  },
  {
   "cell_type": "markdown",
   "metadata": {
    "pycharm": {
     "name": "#%% md\n"
    }
   },
   "source": [
    "## Le Classi in Python\n",
    "* concetto di Classe e Istanza di una classe\n",
    "* Interfaccia di una classe: metodi e attributi\n",
    "    - metodi sono delle funzioni che appartengono alla classe\n",
    "    - attributi sono delle variabili propire della classe\n",
    "* inizializzare un istanza: `__init__(self,...)`\n",
    "* `self`\n",
    "* class namespace `__dict__`\n",
    "* variabili di classe `classvariables`\n"
   ]
  },
  {
   "cell_type": "code",
   "execution_count": 2,
   "metadata": {
    "pycharm": {
     "name": "#%%\n"
    }
   },
   "outputs": [],
   "source": [
    "# definisco una classe chiamata Students:\n",
    "# Il nome della classe si definisce con la CamelNotation\n",
    "class Students:\n",
    "     \n",
    "    pass\n",
    "\n",
    "# Creo un'istanza della classe students semplicemente assegnando:\n",
    "primo_studente = Students()\n",
    "\n",
    "# una seconda istanza della classe students\n",
    "secondo_studente = Students()\n",
    "\n",
    "a = 0 # e' una variabile\n",
    "primo_studente.a = 0 # e' una variabile che afferisce all'istanza primo_studente\n",
    "# se definisco una variabile all'interno di una classe la chiamo attributo\n",
    "\n",
    "# definisco alcuni attributi per primo e secondo studente:\n",
    "primo_studente.eta = 30\n",
    "secondo_studente.eta = 35\n",
    "\n",
    "primo_studente.name = \"Pinco\"\n",
    "secondo_studente.name = \"Pallino\""
   ]
  },
  {
   "cell_type": "code",
   "execution_count": 3,
   "metadata": {
    "pycharm": {
     "name": "#%%\n"
    }
   },
   "outputs": [
    {
     "data": {
      "text/plain": [
       "{'a': 0, 'eta': 30, 'name': 'Pinco'}"
      ]
     },
     "execution_count": 3,
     "metadata": {},
     "output_type": "execute_result"
    }
   ],
   "source": [
    "# Gli attributi di una classe sono disponibili nell'NameSpace dell'istanza: __dict__\n",
    "primo_studente.__dict__"
   ]
  },
  {
   "cell_type": "code",
   "execution_count": 4,
   "metadata": {
    "pycharm": {
     "name": "#%%\n"
    }
   },
   "outputs": [
    {
     "data": {
      "text/plain": [
       "{'eta': 35, 'name': 'Pallino'}"
      ]
     },
     "execution_count": 4,
     "metadata": {},
     "output_type": "execute_result"
    }
   ],
   "source": [
    "secondo_studente.__dict__"
   ]
  },
  {
   "cell_type": "code",
   "execution_count": 5,
   "metadata": {
    "pycharm": {
     "name": "#%%\n"
    }
   },
   "outputs": [],
   "source": [
    "# Se definisco un attributo, e ne sbaglio la digitazione (nmae al posto di name)\n",
    "# python accetta senza fiatare\n",
    "secondo_studente.nmae = \"Pallino\"\n",
    "\n",
    "# Per questa ragione e' preferibile utilizzare il metodo __init__()"
   ]
  },
  {
   "cell_type": "markdown",
   "metadata": {
    "pycharm": {
     "name": "#%% md\n"
    }
   },
   "source": [
    "### Il costruttore in python: `__init__()`"
   ]
  },
  {
   "cell_type": "code",
   "execution_count": 6,
   "metadata": {
    "pycharm": {
     "name": "#%%\n"
    }
   },
   "outputs": [],
   "source": [
    "# Non e' opportuno creare una classe e in un secoondo momento definire degli attributi \n",
    "# legati alle singole istanze della classe.\n",
    "# Solitamente un \"costruttore\" si occupa di definire gli attributi della classe in modo automatico\n",
    "# limitando le possibilita' di errori:\n",
    "\n",
    "class StudentsConCostruttore:\n",
    "    \"\"\" Definizione della classe studenti con \n",
    "    inizializzatore\n",
    "    \"\"\"\n",
    "    \n",
    "    def __init__(self, name, eta):\n",
    "        \n",
    "        # attributo = varibile passata al costruttore\n",
    "        self.name = name\n",
    "        self.eta = eta\n",
    "    \n",
    "    def print_name(self):\n",
    "        # definiamo un metodo di questa classe\n",
    "        print(f\"Studente {self.name} di {self.eta} anni\")\n",
    "        \n",
    "    "
   ]
  },
  {
   "cell_type": "code",
   "execution_count": 7,
   "metadata": {
    "pycharm": {
     "name": "#%%\n"
    }
   },
   "outputs": [],
   "source": [
    "student_3 = StudentsConCostruttore(\"Simone\", 42)\n",
    "student_4 = StudentsConCostruttore(\"Giulia\", 36)"
   ]
  },
  {
   "cell_type": "code",
   "execution_count": 8,
   "metadata": {
    "pycharm": {
     "name": "#%%\n"
    }
   },
   "outputs": [
    {
     "data": {
      "text/plain": [
       "{'name': 'Simone', 'eta': 42}"
      ]
     },
     "execution_count": 8,
     "metadata": {},
     "output_type": "execute_result"
    }
   ],
   "source": [
    "student_3.__dict__"
   ]
  },
  {
   "cell_type": "code",
   "execution_count": 9,
   "metadata": {
    "pycharm": {
     "name": "#%%\n"
    }
   },
   "outputs": [
    {
     "data": {
      "text/plain": [
       "{'name': 'Giulia', 'eta': 36}"
      ]
     },
     "execution_count": 9,
     "metadata": {},
     "output_type": "execute_result"
    }
   ],
   "source": [
    "student_4.__dict__"
   ]
  },
  {
   "cell_type": "code",
   "execution_count": 10,
   "metadata": {
    "pycharm": {
     "name": "#%%\n"
    }
   },
   "outputs": [
    {
     "data": {
      "text/plain": [
       "'Simone'"
      ]
     },
     "execution_count": 10,
     "metadata": {},
     "output_type": "execute_result"
    }
   ],
   "source": [
    "student_3.name"
   ]
  },
  {
   "cell_type": "code",
   "execution_count": 11,
   "metadata": {
    "pycharm": {
     "name": "#%%\n"
    }
   },
   "outputs": [
    {
     "data": {
      "text/plain": [
       "42"
      ]
     },
     "execution_count": 11,
     "metadata": {},
     "output_type": "execute_result"
    }
   ],
   "source": [
    "student_3.eta"
   ]
  },
  {
   "cell_type": "code",
   "execution_count": 12,
   "metadata": {
    "pycharm": {
     "name": "#%%\n"
    }
   },
   "outputs": [],
   "source": [
    "student_5 = StudentsConCostruttore(\"nome\", 45)\n",
    "\n"
   ]
  },
  {
   "cell_type": "markdown",
   "metadata": {
    "pycharm": {
     "name": "#%% md\n"
    }
   },
   "source": [
    "### `self` in python"
   ]
  },
  {
   "cell_type": "code",
   "execution_count": 13,
   "metadata": {
    "pycharm": {
     "name": "#%%\n"
    }
   },
   "outputs": [
    {
     "name": "stdout",
     "output_type": "stream",
     "text": [
      "Studente Simone di 42 anni\n",
      "Studente Simone di 42 anni\n"
     ]
    }
   ],
   "source": [
    "# student_3 e' un'istanza della classe, e quando chiama il metodo \"print_name\"\n",
    "# esegue quanto previsto\n",
    "student_3.print_name()\n",
    "\n",
    "# e' equivalente a:\n",
    "StudentsConCostruttore.print_name(student_3)\n",
    "\n",
    "# StudentsConCostruttore e' la classse, e ha un metodo \"print_name\" che richiede un argomento \"self\", \n",
    "# l'argomento \"self\" e' un istanza della classe stessa, ed e' obligatorio.\n",
    "\n",
    "# Ogni metodo definito in una classe, salvo rari casi DEVE avere come primo argomento \"self\""
   ]
  },
  {
   "cell_type": "markdown",
   "metadata": {
    "pycharm": {
     "name": "#%% md\n"
    }
   },
   "source": [
    "### Le DocString in python:\n",
    "\n"
   ]
  },
  {
   "cell_type": "code",
   "execution_count": 14,
   "metadata": {
    "pycharm": {
     "name": "#%%\n"
    }
   },
   "outputs": [],
   "source": [
    "# Le classi devono essere ben descritte: inserire le docstring \n",
    "# agevola la leggibilita' e permette di accedere all'help della classe\n",
    "# che stampa proprio le docstirng:\n",
    "\n",
    "class Lavoratore:\n",
    "    \"\"\" Questa docstring descrive la classe\"\"\"\n",
    "    \n",
    "    def __init__(self, nome, cognome,  stipendio):\n",
    "        \"\"\" Questa docstring descrive il costruttore\"\"\"\n",
    "        \n",
    "        # attributo = varibile passata al costruttore\n",
    "        self.nome = nome\n",
    "        self.cognome = cognome\n",
    "        \n",
    "        self.email = nome + \".\" + cognome + \"@company.it\"\n",
    "        \n",
    "        self.stipendio = float(stipendio)\n",
    "        \n",
    "    def stampa_lav(self):\n",
    "        \"\"\" Questa docstring descrive stampa_lav\"\"\"\n",
    "        \n",
    "        print(f\"{self.nome} -  RAL: {self.stipendio:.2f} Euro\")\n",
    "        \n",
    "    def aumento(self):\n",
    "        \"\"\" Questa docstring descrive il metodo aumento\"\"\"\n",
    "        self.percentuale = 1.04\n",
    "        \n",
    "        self.stipendio = self.percentuale * self.stipendio"
   ]
  },
  {
   "cell_type": "code",
   "execution_count": 15,
   "metadata": {
    "pycharm": {
     "name": "#%%\n"
    }
   },
   "outputs": [
    {
     "name": "stdout",
     "output_type": "stream",
     "text": [
      "Help on class Lavoratore in module __main__:\n",
      "\n",
      "class Lavoratore(builtins.object)\n",
      " |  Lavoratore(nome, cognome, stipendio)\n",
      " |  \n",
      " |  Questa docstring descrive la classe\n",
      " |  \n",
      " |  Methods defined here:\n",
      " |  \n",
      " |  __init__(self, nome, cognome, stipendio)\n",
      " |      Questa docstring descrive il costruttore\n",
      " |  \n",
      " |  aumento(self)\n",
      " |      Questa docstring descrive il metodo aumento\n",
      " |  \n",
      " |  stampa_lav(self)\n",
      " |      Questa docstring descrive stampa_lav\n",
      " |  \n",
      " |  ----------------------------------------------------------------------\n",
      " |  Data descriptors defined here:\n",
      " |  \n",
      " |  __dict__\n",
      " |      dictionary for instance variables (if defined)\n",
      " |  \n",
      " |  __weakref__\n",
      " |      list of weak references to the object (if defined)\n",
      "\n"
     ]
    }
   ],
   "source": [
    "help(Lavoratore)"
   ]
  },
  {
   "cell_type": "code",
   "execution_count": 16,
   "metadata": {
    "pycharm": {
     "name": "#%%\n"
    }
   },
   "outputs": [
    {
     "name": "stdout",
     "output_type": "stream",
     "text": [
      "Help on function stampa_lav in module __main__:\n",
      "\n",
      "stampa_lav(self)\n",
      "    Questa docstring descrive stampa_lav\n",
      "\n"
     ]
    }
   ],
   "source": [
    "help(Lavoratore.stampa_lav)"
   ]
  },
  {
   "cell_type": "markdown",
   "metadata": {
    "pycharm": {
     "name": "#%% md\n"
    }
   },
   "source": [
    "### Class Variables: Variabili di classe e variabili di istanza"
   ]
  },
  {
   "cell_type": "code",
   "execution_count": 17,
   "metadata": {
    "pycharm": {
     "name": "#%%\n"
    }
   },
   "outputs": [],
   "source": [
    "class Lavoratore:\n",
    "    \"\"\" Classe descrittiva di un lavoratore\"\"\"\n",
    "    \n",
    "    def __init__(self, nome, cognome,  stipendio):\n",
    "        \n",
    "        self.nome = nome\n",
    "        self.cognome = cognome\n",
    "        \n",
    "        self.email = nome + \".\" + cognome + \"@company.it\"\n",
    "        \n",
    "        self.stipendio = float(stipendio)\n",
    "        \n",
    "    def stampa_lav(self):\n",
    "        \"\"\" Questa docstring sescrive stampa_lav\"\"\"\n",
    "        \n",
    "        print(f\"{self.nome} -  RAL: {self.stipendio:.2f} Euro\")\n",
    "        \n",
    "    def aumento(self):\n",
    "        self.percentuale = 1.04\n",
    "        \n",
    "        self.stipendio = self.percentuale * self.stipendio\n",
    "        \n",
    "        \n",
    "        "
   ]
  },
  {
   "cell_type": "code",
   "execution_count": 18,
   "metadata": {
    "pycharm": {
     "name": "#%%\n"
    }
   },
   "outputs": [],
   "source": [
    "lavoratore_1 = Lavoratore(\"Mario\", \"Rossi\", 25000)\n",
    "lavoratore_2 = Lavoratore(\"Paolo\", \"Bianchi\", 30000)\n"
   ]
  },
  {
   "cell_type": "code",
   "execution_count": 19,
   "metadata": {
    "pycharm": {
     "name": "#%%\n"
    }
   },
   "outputs": [
    {
     "name": "stdout",
     "output_type": "stream",
     "text": [
      "<__main__.Lavoratore object at 0x0000026A6AA3C790>\n"
     ]
    }
   ],
   "source": [
    "print(lavoratore_1)"
   ]
  },
  {
   "cell_type": "code",
   "execution_count": 20,
   "metadata": {
    "pycharm": {
     "name": "#%%\n"
    }
   },
   "outputs": [
    {
     "data": {
      "text/plain": [
       "{'nome': 'Mario',\n",
       " 'cognome': 'Rossi',\n",
       " 'email': 'Mario.Rossi@company.it',\n",
       " 'stipendio': 25000.0}"
      ]
     },
     "execution_count": 20,
     "metadata": {},
     "output_type": "execute_result"
    }
   ],
   "source": [
    "lavoratore_1.__dict__"
   ]
  },
  {
   "cell_type": "code",
   "execution_count": null,
   "metadata": {
    "pycharm": {
     "name": "#%%\n"
    }
   },
   "outputs": [],
   "source": []
  },
  {
   "cell_type": "code",
   "execution_count": 21,
   "metadata": {
    "pycharm": {
     "name": "#%%\n"
    }
   },
   "outputs": [
    {
     "name": "stdout",
     "output_type": "stream",
     "text": [
      "Mario -  RAL: 25000.00 Euro\n",
      "Paolo -  RAL: 30000.00 Euro\n",
      "Mario -  RAL: 26000.00 Euro\n",
      "Paolo -  RAL: 31200.00 Euro\n"
     ]
    }
   ],
   "source": [
    "lavoratore_1.stampa_lav()\n",
    "lavoratore_2.stampa_lav()\n",
    "\n",
    "lavoratore_1.aumento()\n",
    "lavoratore_2.aumento()\n",
    "\n",
    "lavoratore_1.stampa_lav()\n",
    "lavoratore_2.stampa_lav()"
   ]
  },
  {
   "cell_type": "code",
   "execution_count": 22,
   "metadata": {
    "pycharm": {
     "name": "#%%\n"
    }
   },
   "outputs": [
    {
     "data": {
      "text/plain": [
       "{'nome': 'Mario',\n",
       " 'cognome': 'Rossi',\n",
       " 'email': 'Mario.Rossi@company.it',\n",
       " 'stipendio': 26000.0,\n",
       " 'percentuale': 1.04}"
      ]
     },
     "execution_count": 22,
     "metadata": {},
     "output_type": "execute_result"
    }
   ],
   "source": [
    "lavoratore_1.__dict__"
   ]
  },
  {
   "cell_type": "code",
   "execution_count": 23,
   "metadata": {
    "pycharm": {
     "name": "#%%\n"
    }
   },
   "outputs": [
    {
     "data": {
      "text/plain": [
       "1.04"
      ]
     },
     "execution_count": 23,
     "metadata": {},
     "output_type": "execute_result"
    }
   ],
   "source": [
    "lavoratore_1.percentuale"
   ]
  },
  {
   "cell_type": "code",
   "execution_count": 24,
   "metadata": {
    "pycharm": {
     "name": "#%%\n"
    }
   },
   "outputs": [
    {
     "data": {
      "text/plain": [
       "{'nome': 'Paolo',\n",
       " 'cognome': 'Bianchi',\n",
       " 'email': 'Paolo.Bianchi@company.it',\n",
       " 'stipendio': 31200.0,\n",
       " 'percentuale': 1.04}"
      ]
     },
     "execution_count": 24,
     "metadata": {},
     "output_type": "execute_result"
    }
   ],
   "source": [
    "lavoratore_2.__dict__"
   ]
  },
  {
   "cell_type": "code",
   "execution_count": 25,
   "metadata": {
    "pycharm": {
     "name": "#%%\n"
    }
   },
   "outputs": [],
   "source": [
    "lavoratore_1.percentuale = 1.10"
   ]
  },
  {
   "cell_type": "code",
   "execution_count": 26,
   "metadata": {
    "pycharm": {
     "name": "#%%\n"
    }
   },
   "outputs": [
    {
     "data": {
      "text/plain": [
       "{'nome': 'Mario',\n",
       " 'cognome': 'Rossi',\n",
       " 'email': 'Mario.Rossi@company.it',\n",
       " 'stipendio': 26000.0,\n",
       " 'percentuale': 1.1}"
      ]
     },
     "execution_count": 26,
     "metadata": {},
     "output_type": "execute_result"
    }
   ],
   "source": [
    "lavoratore_1.__dict__"
   ]
  },
  {
   "cell_type": "code",
   "execution_count": 27,
   "metadata": {
    "pycharm": {
     "name": "#%%\n"
    }
   },
   "outputs": [
    {
     "data": {
      "text/plain": [
       "{'nome': 'Paolo',\n",
       " 'cognome': 'Bianchi',\n",
       " 'email': 'Paolo.Bianchi@company.it',\n",
       " 'stipendio': 31200.0,\n",
       " 'percentuale': 1.04}"
      ]
     },
     "execution_count": 27,
     "metadata": {},
     "output_type": "execute_result"
    }
   ],
   "source": [
    "lavoratore_2.__dict__"
   ]
  },
  {
   "cell_type": "code",
   "execution_count": 28,
   "metadata": {
    "pycharm": {
     "name": "#%%\n"
    }
   },
   "outputs": [],
   "source": [
    "# self.percentuale e' una variabile di istanza"
   ]
  },
  {
   "cell_type": "code",
   "execution_count": 29,
   "metadata": {
    "pycharm": {
     "name": "#%%\n"
    }
   },
   "outputs": [],
   "source": [
    "class Lavoratore:\n",
    "    \"\"\" Questa docstring descrive la classe\"\"\"\n",
    "    \n",
    "    # Questa e' una variabile di classe\n",
    "    percentuale = 1.04\n",
    "    \n",
    "    def __init__(self, nome, cognome,  stipendio):\n",
    "        \n",
    "        # attributo = varibile passata al costruttore\n",
    "        self.nome = nome\n",
    "        self.cognome = cognome\n",
    "        \n",
    "        self.email = nome + \".\" + cognome + \"@company.it\"\n",
    "        \n",
    "        self.stipendio = float(stipendio)\n",
    "        \n",
    "    def stampa_lav(self):\n",
    "        \"\"\" Questa docstring sescrive stampa_lav\"\"\"\n",
    "        \n",
    "        print(f\"{self.nome} -  RAL: {self.stipendio:.2f} Euro, {self.percentuale}\")\n",
    "        \n",
    "    def aumento(self):\n",
    "        \n",
    "        \n",
    "        self.stipendio = self.percentuale * self.stipendio\n",
    "        "
   ]
  },
  {
   "cell_type": "code",
   "execution_count": 30,
   "metadata": {
    "pycharm": {
     "name": "#%%\n"
    }
   },
   "outputs": [],
   "source": [
    "lavoratore_3 = Lavoratore(\"Mario\", \"Rossi\", 25000)\n",
    "lavoratore_4 = Lavoratore(\"Paolo\", \"Bianchi\", 30000)\n"
   ]
  },
  {
   "cell_type": "code",
   "execution_count": 31,
   "metadata": {
    "pycharm": {
     "name": "#%%\n"
    }
   },
   "outputs": [],
   "source": [
    "lavoratore_3.aumento()"
   ]
  },
  {
   "cell_type": "code",
   "execution_count": 32,
   "metadata": {
    "pycharm": {
     "name": "#%%\n"
    }
   },
   "outputs": [
    {
     "data": {
      "text/plain": [
       "{'nome': 'Mario',\n",
       " 'cognome': 'Rossi',\n",
       " 'email': 'Mario.Rossi@company.it',\n",
       " 'stipendio': 26000.0}"
      ]
     },
     "execution_count": 32,
     "metadata": {},
     "output_type": "execute_result"
    }
   ],
   "source": [
    "lavoratore_3.__dict__"
   ]
  },
  {
   "cell_type": "code",
   "execution_count": 33,
   "metadata": {
    "pycharm": {
     "name": "#%%\n"
    }
   },
   "outputs": [
    {
     "data": {
      "text/plain": [
       "1.04"
      ]
     },
     "execution_count": 33,
     "metadata": {},
     "output_type": "execute_result"
    }
   ],
   "source": [
    "lavoratore_3.percentuale"
   ]
  },
  {
   "cell_type": "code",
   "execution_count": 34,
   "metadata": {
    "pycharm": {
     "name": "#%%\n"
    }
   },
   "outputs": [
    {
     "data": {
      "text/plain": [
       "1.04"
      ]
     },
     "execution_count": 34,
     "metadata": {},
     "output_type": "execute_result"
    }
   ],
   "source": [
    "lavoratore_4.percentuale"
   ]
  },
  {
   "cell_type": "code",
   "execution_count": 35,
   "metadata": {
    "pycharm": {
     "name": "#%%\n"
    }
   },
   "outputs": [
    {
     "name": "stdout",
     "output_type": "stream",
     "text": [
      "Mario -  RAL: 26000.00 Euro, 1.04\n",
      "Paolo -  RAL: 30000.00 Euro, 1.04\n",
      "Mario -  RAL: 27040.00 Euro, 1.04\n",
      "Paolo -  RAL: 31200.00 Euro, 1.04\n"
     ]
    }
   ],
   "source": [
    "lavoratore_3.stampa_lav()\n",
    "lavoratore_4.stampa_lav()\n",
    "\n",
    "lavoratore_3.aumento()\n",
    "lavoratore_4.aumento()\n",
    "\n",
    "lavoratore_3.stampa_lav()\n",
    "lavoratore_4.stampa_lav()"
   ]
  },
  {
   "cell_type": "code",
   "execution_count": 36,
   "metadata": {
    "pycharm": {
     "name": "#%%\n"
    }
   },
   "outputs": [],
   "source": [
    "# provo a modificare la percentuale solo per il alvoratore 4:\n",
    "lavoratore_4.percentuale = 1.1"
   ]
  },
  {
   "cell_type": "code",
   "execution_count": 37,
   "metadata": {
    "pycharm": {
     "name": "#%%\n"
    }
   },
   "outputs": [
    {
     "name": "stdout",
     "output_type": "stream",
     "text": [
      "Mario -  RAL: 27040.00 Euro, 1.04\n",
      "Paolo -  RAL: 31200.00 Euro, 1.1\n",
      "Mario -  RAL: 28121.60 Euro, 1.04\n",
      "Paolo -  RAL: 34320.00 Euro, 1.1\n"
     ]
    }
   ],
   "source": [
    "lavoratore_3.stampa_lav()\n",
    "lavoratore_4.stampa_lav()\n",
    "\n",
    "lavoratore_3.aumento()\n",
    "lavoratore_4.aumento()\n",
    "\n",
    "lavoratore_3.stampa_lav()\n",
    "lavoratore_4.stampa_lav()"
   ]
  },
  {
   "cell_type": "code",
   "execution_count": 38,
   "metadata": {
    "pycharm": {
     "name": "#%%\n"
    }
   },
   "outputs": [
    {
     "data": {
      "text/plain": [
       "{'nome': 'Mario',\n",
       " 'cognome': 'Rossi',\n",
       " 'email': 'Mario.Rossi@company.it',\n",
       " 'stipendio': 28121.600000000002}"
      ]
     },
     "execution_count": 38,
     "metadata": {},
     "output_type": "execute_result"
    }
   ],
   "source": [
    "lavoratore_3.__dict__"
   ]
  },
  {
   "cell_type": "code",
   "execution_count": 39,
   "metadata": {
    "pycharm": {
     "name": "#%%\n"
    }
   },
   "outputs": [
    {
     "data": {
      "text/plain": [
       "{'nome': 'Paolo',\n",
       " 'cognome': 'Bianchi',\n",
       " 'email': 'Paolo.Bianchi@company.it',\n",
       " 'stipendio': 34320.0,\n",
       " 'percentuale': 1.1}"
      ]
     },
     "execution_count": 39,
     "metadata": {},
     "output_type": "execute_result"
    }
   ],
   "source": [
    "lavoratore_4.__dict__"
   ]
  },
  {
   "cell_type": "code",
   "execution_count": 40,
   "metadata": {
    "pycharm": {
     "name": "#%%\n"
    }
   },
   "outputs": [
    {
     "data": {
      "text/plain": [
       "1.04"
      ]
     },
     "execution_count": 40,
     "metadata": {},
     "output_type": "execute_result"
    }
   ],
   "source": [
    "# esiste un attributo \"percentuale\" dell'istanza lavoratore_3 che pero'\n",
    "# deriva dalla class_variables di Lavoratore\n",
    "lavoratore_3.percentuale"
   ]
  },
  {
   "cell_type": "code",
   "execution_count": 41,
   "metadata": {
    "pycharm": {
     "name": "#%%\n"
    }
   },
   "outputs": [
    {
     "data": {
      "text/plain": [
       "1.1"
      ]
     },
     "execution_count": 41,
     "metadata": {},
     "output_type": "execute_result"
    }
   ],
   "source": [
    "# esiste un attributo \"percentuale\" dell'istanza lavoratore_4\n",
    "lavoratore_4.percentuale"
   ]
  },
  {
   "cell_type": "code",
   "execution_count": 42,
   "metadata": {
    "pycharm": {
     "name": "#%%\n"
    }
   },
   "outputs": [
    {
     "data": {
      "text/plain": [
       "1.04"
      ]
     },
     "execution_count": 42,
     "metadata": {},
     "output_type": "execute_result"
    }
   ],
   "source": [
    "# esiste anche una variabile propria della classe chiamata sempre percentuale\n",
    "Lavoratore.percentuale"
   ]
  },
  {
   "cell_type": "code",
   "execution_count": 43,
   "metadata": {
    "pycharm": {
     "name": "#%%\n"
    }
   },
   "outputs": [],
   "source": [
    "Lavoratore.percentuale = 2"
   ]
  },
  {
   "cell_type": "code",
   "execution_count": 44,
   "metadata": {
    "pycharm": {
     "name": "#%%\n"
    }
   },
   "outputs": [
    {
     "data": {
      "text/plain": [
       "{'nome': 'Mario',\n",
       " 'cognome': 'Rossi',\n",
       " 'email': 'Mario.Rossi@company.it',\n",
       " 'stipendio': 28121.600000000002}"
      ]
     },
     "execution_count": 44,
     "metadata": {},
     "output_type": "execute_result"
    }
   ],
   "source": [
    "lavoratore_3.__dict__"
   ]
  },
  {
   "cell_type": "code",
   "execution_count": 45,
   "metadata": {
    "pycharm": {
     "name": "#%%\n"
    }
   },
   "outputs": [
    {
     "data": {
      "text/plain": [
       "{'nome': 'Paolo',\n",
       " 'cognome': 'Bianchi',\n",
       " 'email': 'Paolo.Bianchi@company.it',\n",
       " 'stipendio': 34320.0,\n",
       " 'percentuale': 1.1}"
      ]
     },
     "execution_count": 45,
     "metadata": {},
     "output_type": "execute_result"
    }
   ],
   "source": [
    "lavoratore_4.__dict__"
   ]
  },
  {
   "cell_type": "code",
   "execution_count": 46,
   "metadata": {
    "pycharm": {
     "name": "#%%\n"
    }
   },
   "outputs": [
    {
     "name": "stdout",
     "output_type": "stream",
     "text": [
      "Mario -  RAL: 28121.60 Euro, 2\n",
      "Paolo -  RAL: 34320.00 Euro, 1.1\n",
      "Mario -  RAL: 56243.20 Euro, 2\n",
      "Paolo -  RAL: 37752.00 Euro, 1.1\n"
     ]
    }
   ],
   "source": [
    "lavoratore_3.stampa_lav()\n",
    "lavoratore_4.stampa_lav()\n",
    "\n",
    "lavoratore_3.aumento()\n",
    "lavoratore_4.aumento()\n",
    "\n",
    "lavoratore_3.stampa_lav()\n",
    "lavoratore_4.stampa_lav()"
   ]
  },
  {
   "cell_type": "code",
   "execution_count": 47,
   "metadata": {
    "pycharm": {
     "name": "#%%\n"
    }
   },
   "outputs": [],
   "source": [
    "lavoratore_5 = Lavoratore(\"Pinco\", \"Pallino\", 10000)"
   ]
  },
  {
   "cell_type": "code",
   "execution_count": 48,
   "metadata": {
    "pycharm": {
     "name": "#%%\n"
    }
   },
   "outputs": [
    {
     "name": "stdout",
     "output_type": "stream",
     "text": [
      "Pinco -  RAL: 10000.00 Euro, 2\n",
      "Pinco -  RAL: 20000.00 Euro, 2\n"
     ]
    }
   ],
   "source": [
    "lavoratore_5.stampa_lav()\n",
    "\n",
    "lavoratore_5.aumento()\n",
    "\n",
    "lavoratore_5.stampa_lav()"
   ]
  },
  {
   "cell_type": "code",
   "execution_count": 49,
   "metadata": {
    "pycharm": {
     "name": "#%%\n"
    }
   },
   "outputs": [],
   "source": [
    "class Lavoratore:\n",
    "    \"\"\" Questa docstring descrive la classe\"\"\"\n",
    "    \n",
    "    # Questa e' una variabile di classe\n",
    "    percentuale = 1.04\n",
    "    \n",
    "    def __init__(self, nome, cognome,  stipendio):\n",
    "        \n",
    "        # attributo = varibile passata al costruttore\n",
    "        self.nome = nome\n",
    "        self.cognome = cognome\n",
    "        \n",
    "        self.email = nome + \".\" + cognome + \"@company.it\"\n",
    "        \n",
    "        self.stipendio = float(stipendio)\n",
    "        \n",
    "    def stampa_lav(self):\n",
    "        \"\"\" Questa docstring sescrive stampa_lav\"\"\"\n",
    "        \n",
    "        print(f\"{self.nome} -  RAL: {self.stipendio:.2f} Euro, {Lavoratore.percentuale}\")\n",
    "        \n",
    "    def aumento(self):\n",
    "        \n",
    "        \n",
    "        self.stipendio = Lavoratore.percentuale * self.stipendio\n",
    "\n",
    "\n",
    "\n"
   ]
  },
  {
   "cell_type": "code",
   "execution_count": 50,
   "metadata": {
    "pycharm": {
     "name": "#%%\n"
    }
   },
   "outputs": [],
   "source": [
    "lavoratore_6 = Lavoratore(\"Mariuccio\", \"Rossi\", 25000)\n",
    "lavoratore_7 = Lavoratore(\"Paoluccio\", \"Bianchi\", 30000)"
   ]
  },
  {
   "cell_type": "code",
   "execution_count": 51,
   "metadata": {
    "pycharm": {
     "name": "#%%\n"
    }
   },
   "outputs": [
    {
     "name": "stdout",
     "output_type": "stream",
     "text": [
      "Mariuccio -  RAL: 25000.00 Euro, 1.04\n",
      "Paoluccio -  RAL: 30000.00 Euro, 1.04\n",
      "Mariuccio -  RAL: 26000.00 Euro, 1.04\n",
      "Paoluccio -  RAL: 31200.00 Euro, 1.04\n"
     ]
    }
   ],
   "source": [
    "lavoratore_6.stampa_lav()\n",
    "lavoratore_7.stampa_lav()\n",
    "\n",
    "lavoratore_6.aumento()\n",
    "lavoratore_7.aumento()\n",
    "\n",
    "lavoratore_6.stampa_lav()\n",
    "lavoratore_7.stampa_lav()"
   ]
  },
  {
   "cell_type": "code",
   "execution_count": 52,
   "metadata": {
    "pycharm": {
     "name": "#%%\n"
    }
   },
   "outputs": [],
   "source": [
    "Lavoratore.percentuale = 1.1"
   ]
  },
  {
   "cell_type": "code",
   "execution_count": 53,
   "metadata": {
    "pycharm": {
     "name": "#%%\n"
    }
   },
   "outputs": [
    {
     "name": "stdout",
     "output_type": "stream",
     "text": [
      "Mariuccio -  RAL: 26000.00 Euro, 1.1\n",
      "Paoluccio -  RAL: 31200.00 Euro, 1.1\n",
      "Mariuccio -  RAL: 28600.00 Euro, 1.1\n",
      "Paoluccio -  RAL: 34320.00 Euro, 1.1\n"
     ]
    }
   ],
   "source": [
    "lavoratore_6.stampa_lav()\n",
    "lavoratore_7.stampa_lav()\n",
    "\n",
    "lavoratore_6.aumento()\n",
    "lavoratore_7.aumento()\n",
    "\n",
    "lavoratore_6.stampa_lav()\n",
    "lavoratore_7.stampa_lav()"
   ]
  },
  {
   "cell_type": "code",
   "execution_count": 54,
   "metadata": {
    "pycharm": {
     "name": "#%%\n"
    }
   },
   "outputs": [],
   "source": [
    "# Se modifico l'attributo percentuale proprio di una istanza, \n",
    "# in realta' non agisco sulla variabile di classe, ma creo un self.percentuale\n",
    "# che non e' Lavoratore.percentuale\n",
    "\n",
    "lavoratore_6.percentuale = 2"
   ]
  },
  {
   "cell_type": "code",
   "execution_count": 55,
   "metadata": {
    "pycharm": {
     "name": "#%%\n"
    }
   },
   "outputs": [
    {
     "name": "stdout",
     "output_type": "stream",
     "text": [
      "Mariuccio -  RAL: 28600.00 Euro, 1.1\n",
      "Paoluccio -  RAL: 34320.00 Euro, 1.1\n",
      "Mariuccio -  RAL: 31460.00 Euro, 1.1\n",
      "Paoluccio -  RAL: 37752.00 Euro, 1.1\n"
     ]
    }
   ],
   "source": [
    "lavoratore_6.stampa_lav()\n",
    "lavoratore_7.stampa_lav()\n",
    "\n",
    "lavoratore_6.aumento()\n",
    "lavoratore_7.aumento()\n",
    "\n",
    "lavoratore_6.stampa_lav()\n",
    "lavoratore_7.stampa_lav()"
   ]
  },
  {
   "cell_type": "code",
   "execution_count": null,
   "metadata": {
    "pycharm": {
     "name": "#%%\n"
    }
   },
   "outputs": [],
   "source": []
  },
  {
   "cell_type": "markdown",
   "metadata": {
    "pycharm": {
     "name": "#%% md\n"
    }
   },
   "source": [
    "## Incapsulamento:"
   ]
  },
  {
   "cell_type": "code",
   "execution_count": 57,
   "metadata": {
    "pycharm": {
     "name": "#%%\n"
    }
   },
   "outputs": [
    {
     "data": {
      "text/plain": [
       "{'nome': 'Mariuccio',\n",
       " 'cognome': 'Rossi',\n",
       " 'email': 'Mariuccio.Rossi@company.it',\n",
       " 'stipendio': 31460.000000000007,\n",
       " 'percentuale': 2}"
      ]
     },
     "execution_count": 57,
     "metadata": {},
     "output_type": "execute_result"
    }
   ],
   "source": [
    "lavoratore_6.__dict__"
   ]
  },
  {
   "cell_type": "markdown",
   "metadata": {
    "pycharm": {
     "name": "#%% md\n"
    }
   },
   "source": [
    "### Convenzioni di denominazione: l'underscore in python\n",
    "* `_`: Per pura convenzione, le variabili che hanno l'underscore davanti al nome, sono variabili utilizzate solo all'interno della classe. Non devono essere modificate dall'esterno. Restano pero' totalmente accessibile\n",
    "* `__`: L'attirbuto risulta effettivamente non accessibile in modo diretto e non modificabile"
   ]
  },
  {
   "cell_type": "code",
   "execution_count": 89,
   "metadata": {
    "pycharm": {
     "name": "#%%\n"
    }
   },
   "outputs": [],
   "source": [
    "from datetime import date\n",
    "\n",
    "class Studente:\n",
    "    \n",
    "    \n",
    "    def __init__(self, nome, cognome, anno_di_nascita):\n",
    "        \n",
    "        self.nome = nome\n",
    "        self.cognome = cognome\n",
    "        self.anno_di_nascita = anno_di_nascita\n",
    "        \n",
    "        self._eta = date.today().year - anno_di_nascita\n",
    "        \n",
    "        self.__borsa_di_studio = False\n",
    "    \n",
    "    def stampa_borsa(self):\n",
    "        \n",
    "        if self.__borsa_di_studio:\n",
    "            print(\"Vince Borsa\")\n",
    "        else:\n",
    "            print(\"Non vince Borsa\")\n",
    "        \n",
    "        \n",
    "\n",
    "        "
   ]
  },
  {
   "cell_type": "code",
   "execution_count": 90,
   "metadata": {
    "pycharm": {
     "name": "#%%\n"
    }
   },
   "outputs": [],
   "source": [
    "studente = Studente(\"Mario\", \"Rossi\", 1999)"
   ]
  },
  {
   "cell_type": "code",
   "execution_count": 91,
   "metadata": {
    "pycharm": {
     "name": "#%%\n"
    }
   },
   "outputs": [
    {
     "data": {
      "text/plain": [
       "23"
      ]
     },
     "execution_count": 91,
     "metadata": {},
     "output_type": "execute_result"
    }
   ],
   "source": [
    "# La variabile resta comunque accessibile e modificabile\n",
    "studente._eta "
   ]
  },
  {
   "cell_type": "code",
   "execution_count": 92,
   "metadata": {
    "pycharm": {
     "name": "#%%\n"
    }
   },
   "outputs": [
    {
     "ename": "AttributeError",
     "evalue": "'Studente' object has no attribute '__borsa_di_studio'",
     "output_type": "error",
     "traceback": [
      "\u001B[1;31m---------------------------------------------------------------------------\u001B[0m",
      "\u001B[1;31mAttributeError\u001B[0m                            Traceback (most recent call last)",
      "\u001B[1;32m~\\AppData\\Local\\Temp/ipykernel_14532/453545546.py\u001B[0m in \u001B[0;36m<module>\u001B[1;34m\u001B[0m\n\u001B[1;32m----> 1\u001B[1;33m \u001B[0mstudente\u001B[0m\u001B[1;33m.\u001B[0m\u001B[0m__borsa_di_studio\u001B[0m\u001B[1;33m\u001B[0m\u001B[1;33m\u001B[0m\u001B[0m\n\u001B[0m",
      "\u001B[1;31mAttributeError\u001B[0m: 'Studente' object has no attribute '__borsa_di_studio'"
     ]
    }
   ],
   "source": [
    "studente.__borsa_di_studio"
   ]
  },
  {
   "cell_type": "code",
   "execution_count": 93,
   "metadata": {
    "pycharm": {
     "name": "#%%\n"
    }
   },
   "outputs": [
    {
     "data": {
      "text/plain": [
       "False"
      ]
     },
     "execution_count": 93,
     "metadata": {},
     "output_type": "execute_result"
    }
   ],
   "source": [
    "studente._Studente__borsa_di_studio"
   ]
  },
  {
   "cell_type": "code",
   "execution_count": 94,
   "metadata": {
    "pycharm": {
     "name": "#%%\n"
    }
   },
   "outputs": [
    {
     "name": "stdout",
     "output_type": "stream",
     "text": [
      "Non vince Borsa\n"
     ]
    }
   ],
   "source": [
    "studente.stampa_borsa()"
   ]
  },
  {
   "cell_type": "code",
   "execution_count": 95,
   "metadata": {
    "pycharm": {
     "name": "#%%\n"
    }
   },
   "outputs": [],
   "source": [
    "studente._Studente__borsa_di_studio = True"
   ]
  },
  {
   "cell_type": "code",
   "execution_count": 96,
   "metadata": {
    "pycharm": {
     "name": "#%%\n"
    }
   },
   "outputs": [
    {
     "name": "stdout",
     "output_type": "stream",
     "text": [
      "Vince Borsa\n"
     ]
    }
   ],
   "source": [
    "studente.stampa_borsa()"
   ]
  },
  {
   "cell_type": "code",
   "execution_count": null,
   "metadata": {
    "pycharm": {
     "name": "#%%\n"
    }
   },
   "outputs": [],
   "source": [
    "studente._"
   ]
  },
  {
   "cell_type": "code",
   "execution_count": null,
   "metadata": {
    "pycharm": {
     "name": "#%%\n"
    }
   },
   "outputs": [],
   "source": []
  },
  {
   "cell_type": "code",
   "execution_count": null,
   "metadata": {
    "pycharm": {
     "name": "#%%\n"
    }
   },
   "outputs": [],
   "source": []
  },
  {
   "cell_type": "markdown",
   "metadata": {
    "pycharm": {
     "name": "#%% md\n"
    }
   },
   "source": [
    "## Ereditarieta'\n",
    "\n"
   ]
  },
  {
   "cell_type": "markdown",
   "metadata": {
    "pycharm": {
     "name": "#%% md\n"
    }
   },
   "source": [
    "## [Special Methods:](https://docs.python.org/3/reference/datamodel.html#special-method-names) dunder methods\n",
    "dunder = double underscore\n",
    "* `__init__`\n",
    "* `__repr__`\n",
    "* `__str__`\n",
    "* `__add__`, `__sub__`, `__mult__`, ecc...\n",
    "* `__len__`\n"
   ]
  },
  {
   "cell_type": "code",
   "execution_count": 104,
   "metadata": {
    "pycharm": {
     "name": "#%%\n"
    }
   },
   "outputs": [
    {
     "data": {
      "text/plain": [
       "str"
      ]
     },
     "execution_count": 104,
     "metadata": {},
     "output_type": "execute_result"
    }
   ],
   "source": [
    "type(\"a\")"
   ]
  },
  {
   "cell_type": "code",
   "execution_count": 108,
   "metadata": {
    "pycharm": {
     "name": "#%%\n"
    }
   },
   "outputs": [
    {
     "data": {
      "text/plain": [
       "'5555'"
      ]
     },
     "execution_count": 108,
     "metadata": {},
     "output_type": "execute_result"
    }
   ],
   "source": [
    "4 * \"5\""
   ]
  },
  {
   "cell_type": "code",
   "execution_count": 109,
   "metadata": {
    "pycharm": {
     "name": "#%%\n"
    }
   },
   "outputs": [
    {
     "data": {
      "text/plain": [
       "3"
      ]
     },
     "execution_count": 109,
     "metadata": {},
     "output_type": "execute_result"
    }
   ],
   "source": [
    "len(\"let\")"
   ]
  },
  {
   "cell_type": "code",
   "execution_count": 110,
   "metadata": {
    "pycharm": {
     "name": "#%%\n"
    }
   },
   "outputs": [
    {
     "data": {
      "text/plain": [
       "5"
      ]
     },
     "execution_count": 110,
     "metadata": {},
     "output_type": "execute_result"
    }
   ],
   "source": [
    "len([4,5,5,6,5])"
   ]
  },
  {
   "cell_type": "code",
   "execution_count": 112,
   "metadata": {
    "pycharm": {
     "name": "#%%\n"
    }
   },
   "outputs": [
    {
     "data": {
      "text/plain": [
       "2"
      ]
     },
     "execution_count": 112,
     "metadata": {},
     "output_type": "execute_result"
    }
   ],
   "source": [
    "len({\"a\":2, \"b\":2})"
   ]
  },
  {
   "cell_type": "code",
   "execution_count": 113,
   "metadata": {
    "pycharm": {
     "name": "#%%\n"
    }
   },
   "outputs": [
    {
     "name": "stdout",
     "output_type": "stream",
     "text": [
      "5\n"
     ]
    }
   ],
   "source": [
    "print(5)"
   ]
  },
  {
   "cell_type": "code",
   "execution_count": 115,
   "metadata": {
    "pycharm": {
     "name": "#%%\n"
    }
   },
   "outputs": [
    {
     "name": "stdout",
     "output_type": "stream",
     "text": [
      "a \n",
      "\n"
     ]
    }
   ],
   "source": [
    "print(\"a \\n\")"
   ]
  },
  {
   "cell_type": "code",
   "execution_count": 165,
   "metadata": {
    "pycharm": {
     "name": "#%%\n"
    }
   },
   "outputs": [],
   "source": [
    "class Treno:\n",
    "    \n",
    "    def __init__(self, proprietario, numero_di_vagoni, numero_posti):\n",
    "        \n",
    "        self.proprietario = proprietario\n",
    "        self.numero_di_vagoni = numero_di_vagoni\n",
    "        self.numero_posti = numero_posti\n",
    "        \n",
    "\n",
    "    def __add__(self, other):\n",
    "        \n",
    "        if self.proprietario == other.proprietario:\n",
    "            \n",
    "            numero_vagoni = self.numero_di_vagoni + other.numero_di_vagoni\n",
    "            numero_posti = self.numero_posti + other.numero_posti\n",
    "\n",
    "            return Treno(self.proprietario, numero_vagoni, numero_posti)\n",
    "        else:\n",
    "            raise ValueError(\"Non puoi sommare treni di proprietari diversi\")\n",
    "        \n",
    "    def __repr__(self):\n",
    "        \n",
    "        return f\"Treno('{self.proprietario}', {self.numero_di_vagoni}, {self.numero_posti})\"\n",
    "    \n",
    "    def __str__(self):\n",
    "        \n",
    "        return f\"Treno di proprieta' {self.proprietario}, con {self.numero_di_vagoni} vagoni e {self.numero_posti} posti.\""
   ]
  },
  {
   "cell_type": "code",
   "execution_count": 166,
   "metadata": {
    "pycharm": {
     "name": "#%%\n"
    }
   },
   "outputs": [],
   "source": [
    "treno_1 = Treno(\"fs\", 5, 160)\n",
    "treno_2 = Treno(\"fs\", 6, 320)\n",
    "treno_X = Treno(\"Italo\", 9, 560)\n"
   ]
  },
  {
   "cell_type": "code",
   "execution_count": 171,
   "metadata": {
    "pycharm": {
     "name": "#%%\n"
    }
   },
   "outputs": [
    {
     "name": "stdout",
     "output_type": "stream",
     "text": [
      "Treno di proprieta' fs, con 5 vagoni e 160 posti.\n"
     ]
    }
   ],
   "source": [
    "print(treno_1)"
   ]
  },
  {
   "cell_type": "code",
   "execution_count": 172,
   "metadata": {
    "pycharm": {
     "name": "#%%\n"
    }
   },
   "outputs": [
    {
     "data": {
      "text/plain": [
       "Treno('fs', 5, 160)"
      ]
     },
     "execution_count": 172,
     "metadata": {},
     "output_type": "execute_result"
    }
   ],
   "source": [
    "treno_1"
   ]
  },
  {
   "cell_type": "code",
   "execution_count": 169,
   "metadata": {
    "pycharm": {
     "name": "#%%\n"
    }
   },
   "outputs": [
    {
     "name": "stdout",
     "output_type": "stream",
     "text": [
      "Ciao\n"
     ]
    }
   ],
   "source": [
    "# str\n",
    "print(\"Ciao\")"
   ]
  },
  {
   "cell_type": "code",
   "execution_count": 170,
   "metadata": {
    "pycharm": {
     "name": "#%%\n"
    }
   },
   "outputs": [
    {
     "data": {
      "text/plain": [
       "'Ciao'"
      ]
     },
     "execution_count": 170,
     "metadata": {},
     "output_type": "execute_result"
    }
   ],
   "source": [
    "# repr\n",
    "\"Ciao\""
   ]
  },
  {
   "cell_type": "code",
   "execution_count": null,
   "metadata": {
    "pycharm": {
     "name": "#%%\n"
    }
   },
   "outputs": [],
   "source": []
  },
  {
   "cell_type": "code",
   "execution_count": 147,
   "metadata": {
    "pycharm": {
     "name": "#%%\n"
    }
   },
   "outputs": [],
   "source": [
    "treno_3 = treno_1 + treno_2"
   ]
  },
  {
   "cell_type": "code",
   "execution_count": 139,
   "metadata": {
    "pycharm": {
     "name": "#%%\n"
    }
   },
   "outputs": [
    {
     "data": {
      "text/plain": [
       "{'proprietario': 'fs', 'numero_di_vagoni': 11, 'numero_posti': 480}"
      ]
     },
     "execution_count": 139,
     "metadata": {},
     "output_type": "execute_result"
    }
   ],
   "source": [
    "treno_3.__dict__"
   ]
  },
  {
   "cell_type": "code",
   "execution_count": 132,
   "metadata": {
    "pycharm": {
     "name": "#%%\n"
    }
   },
   "outputs": [
    {
     "ename": "ValueError",
     "evalue": "Non puoi sommare treni di proprietari diversi",
     "output_type": "error",
     "traceback": [
      "\u001B[1;31m---------------------------------------------------------------------------\u001B[0m",
      "\u001B[1;31mValueError\u001B[0m                                Traceback (most recent call last)",
      "\u001B[1;32m~\\AppData\\Local\\Temp/ipykernel_14532/2381178956.py\u001B[0m in \u001B[0;36m<module>\u001B[1;34m\u001B[0m\n\u001B[1;32m----> 1\u001B[1;33m \u001B[0mtreno_2\u001B[0m \u001B[1;33m+\u001B[0m \u001B[0mtreno_X\u001B[0m\u001B[1;33m\u001B[0m\u001B[1;33m\u001B[0m\u001B[0m\n\u001B[0m",
      "\u001B[1;32m~\\AppData\\Local\\Temp/ipykernel_14532/3499466575.py\u001B[0m in \u001B[0;36m__add__\u001B[1;34m(self, other)\u001B[0m\n\u001B[0;32m     17\u001B[0m             \u001B[1;32mreturn\u001B[0m \u001B[0mTreno\u001B[0m\u001B[1;33m(\u001B[0m\u001B[0mself\u001B[0m\u001B[1;33m.\u001B[0m\u001B[0mproprietario\u001B[0m\u001B[1;33m,\u001B[0m \u001B[0mnumero_vagoni\u001B[0m\u001B[1;33m,\u001B[0m \u001B[0mnumero_posti\u001B[0m\u001B[1;33m)\u001B[0m\u001B[1;33m\u001B[0m\u001B[1;33m\u001B[0m\u001B[0m\n\u001B[0;32m     18\u001B[0m         \u001B[1;32melse\u001B[0m\u001B[1;33m:\u001B[0m\u001B[1;33m\u001B[0m\u001B[1;33m\u001B[0m\u001B[0m\n\u001B[1;32m---> 19\u001B[1;33m             \u001B[1;32mraise\u001B[0m \u001B[0mValueError\u001B[0m\u001B[1;33m(\u001B[0m\u001B[1;34m\"Non puoi sommare treni di proprietari diversi\"\u001B[0m\u001B[1;33m)\u001B[0m\u001B[1;33m\u001B[0m\u001B[1;33m\u001B[0m\u001B[0m\n\u001B[0m\u001B[0;32m     20\u001B[0m \u001B[1;33m\u001B[0m\u001B[0m\n\u001B[0;32m     21\u001B[0m \u001B[1;33m\u001B[0m\u001B[0m\n",
      "\u001B[1;31mValueError\u001B[0m: Non puoi sommare treni di proprietari diversi"
     ]
    }
   ],
   "source": [
    "treno_2 + treno_X"
   ]
  },
  {
   "cell_type": "code",
   "execution_count": 161,
   "metadata": {
    "pycharm": {
     "name": "#%%\n"
    }
   },
   "outputs": [
    {
     "name": "stdout",
     "output_type": "stream",
     "text": [
      "Treno di proprieta' fs, con 5 vagoni e 160 posti.\n"
     ]
    }
   ],
   "source": [
    "print(treno_1)"
   ]
  },
  {
   "cell_type": "code",
   "execution_count": 152,
   "metadata": {
    "pycharm": {
     "name": "#%%\n"
    }
   },
   "outputs": [
    {
     "data": {
      "text/plain": [
       "Treno('fs', 5, 160)"
      ]
     },
     "execution_count": 152,
     "metadata": {},
     "output_type": "execute_result"
    }
   ],
   "source": [
    "Treno('fs', 5, 160)"
   ]
  },
  {
   "cell_type": "code",
   "execution_count": 154,
   "metadata": {
    "pycharm": {
     "name": "#%%\n"
    }
   },
   "outputs": [
    {
     "data": {
      "text/plain": [
       "\"Treno di proprieta' fs, con 5 vagoni e 160 posti.\""
      ]
     },
     "execution_count": 154,
     "metadata": {},
     "output_type": "execute_result"
    }
   ],
   "source": [
    "str(treno_1)"
   ]
  },
  {
   "cell_type": "code",
   "execution_count": 157,
   "metadata": {
    "pycharm": {
     "name": "#%%\n"
    }
   },
   "outputs": [
    {
     "data": {
      "text/plain": [
       "\"Treno di proprieta' fs, con 5 vagoni e 160 posti.\""
      ]
     },
     "execution_count": 157,
     "metadata": {},
     "output_type": "execute_result"
    }
   ],
   "source": [
    "treno_1.__str__()"
   ]
  },
  {
   "cell_type": "code",
   "execution_count": null,
   "metadata": {
    "pycharm": {
     "name": "#%%\n"
    }
   },
   "outputs": [],
   "source": []
  }
 ],
 "metadata": {
  "kernelspec": {
   "display_name": "Python 3 (ipykernel)",
   "language": "python",
   "name": "python3"
  },
  "language_info": {
   "codemirror_mode": {
    "name": "ipython",
    "version": 3
   },
   "file_extension": ".py",
   "mimetype": "text/x-python",
   "name": "python",
   "nbconvert_exporter": "python",
   "pygments_lexer": "ipython3",
   "version": "3.9.7"
  },
  "toc": {
   "base_numbering": 1,
   "nav_menu": {},
   "number_sections": true,
   "sideBar": true,
   "skip_h1_title": true,
   "title_cell": "Table of Contents",
   "title_sidebar": "Contents",
   "toc_cell": false,
   "toc_position": {},
   "toc_section_display": true,
   "toc_window_display": false
  },
  "varInspector": {
   "cols": {
    "lenName": 16,
    "lenType": 16,
    "lenVar": 40
   },
   "kernels_config": {
    "python": {
     "delete_cmd_postfix": "",
     "delete_cmd_prefix": "del ",
     "library": "var_list.py",
     "varRefreshCmd": "print(var_dic_list())"
    },
    "r": {
     "delete_cmd_postfix": ") ",
     "delete_cmd_prefix": "rm(",
     "library": "var_list.r",
     "varRefreshCmd": "cat(var_dic_list()) "
    }
   },
   "types_to_exclude": [
    "module",
    "function",
    "builtin_function_or_method",
    "instance",
    "_Feature"
   ],
   "window_display": false
  }
 },
 "nbformat": 4,
 "nbformat_minor": 1
}