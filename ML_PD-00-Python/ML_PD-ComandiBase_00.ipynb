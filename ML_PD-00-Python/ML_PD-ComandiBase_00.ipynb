{
 "cells": [
  {
   "cell_type": "markdown",
   "id": "23159f6c",
   "metadata": {},
   "source": [
    "## 0.0 Comandi su Anaconda Prompr:\n",
    "\n",
    "* cd nomeCartella\n",
    "* cd..\n",
    "* dir \n",
    "* NomeDrive:  [J:]\n",
    "* pip\n",
    "* conda\n",
    "* jupyter notebook"
   ]
  },
  {
   "cell_type": "markdown",
   "id": "1c38ad1d",
   "metadata": {},
   "source": [
    "## 0.1 Comandi su Jupyter Notebook\n",
    "* Da File Explorer: new \"python3 Kernel\"\n",
    "* esc: esce dall'editing di una cella\n",
    "* a: aggiunge una cella sopra alla cella selezionata\n",
    "* b: aggiunge una cella sotto alla cella selezionata\n",
    "* m: trasforma la cella selezionata in cella di Markdown\n",
    "* y: trasforma la cella selezionata in cella di codice\n",
    "* x, c, v: taglia, copia e incolla la cella selzionata\n",
    "* z: annulla l'ultima operazione su celle eseguita\n",
    "* l: mostra/nascondi i numeri di riga\n",
    "* shift m: unisci celle selezionate\n",
    "* ctrl+shift+meno(-): dividi le celle al cursore\n",
    "* shift + invio: esegue la cella e passa alla cella successiva\n",
    "* ctrl + invio: esegue la cella e resta sulla stessa cella"
   ]
  },
  {
   "cell_type": "markdown",
   "id": "fb5d4a37",
   "metadata": {},
   "source": [
    "# 1.0 Python\n",
    "\n"
   ]
  },
  {
   "cell_type": "markdown",
   "id": "28f01d19",
   "metadata": {},
   "source": [
    "## 1.1 Variabili e Assegnazioni"
   ]
  },
  {
   "cell_type": "code",
   "execution_count": 1,
   "id": "6bfc07c7",
   "metadata": {},
   "outputs": [],
   "source": [
    "\n",
    "# Questa riga e' un commento e verra' ignorata dal kernel\n",
    "\"\"\"\n",
    "L'operatore \"=\" e' l'operatore di assegnazione\n",
    "che assegna all'identificatore che ho a sinistra dell'uguale\n",
    "il risultato di cio' che ho a destra dell'uguale\n",
    "\"\"\"\n",
    "\n",
    "a = 5\n",
    "b = 7"
   ]
  },
  {
   "cell_type": "code",
   "execution_count": 2,
   "id": "ec13f0fb",
   "metadata": {},
   "outputs": [],
   "source": [
    "c = a + b"
   ]
  },
  {
   "cell_type": "markdown",
   "id": "eed852b7",
   "metadata": {},
   "source": [
    "**ATTENZIONE:** Python e' **Case Sensitive** distingue quindi le maiuscole dalle minuscole:\n",
    "* casa non e' uguale ad Casa\n",
    "* a non e' uguale ad A\n",
    "\n"
   ]
  },
  {
   "cell_type": "markdown",
   "id": "10977df9",
   "metadata": {},
   "source": [
    "### 1.1.1 Python Style\n",
    "_Style for Python Code_: https://www.python.org/dev/peps/pep-0008/\n",
    "\n",
    "* identificatori (nomi delle variabili) vanno scirtti in lettere minuscole con parole separate da underscore _ \n",
    "* l'identificatore deve esprimere chiaramente cosa contiene\n",
    "* preferibilmente in lingua inglese"
   ]
  },
  {
   "cell_type": "markdown",
   "id": "b95b1012",
   "metadata": {},
   "source": [
    "### 1.1.2 Tipi \n",
    "* int: numero intero \n",
    "* float\n",
    "* boolean\n",
    "* str"
   ]
  },
  {
   "cell_type": "code",
   "execution_count": 3,
   "id": "bffd8bfd",
   "metadata": {},
   "outputs": [
    {
     "data": {
      "text/plain": [
       "int"
      ]
     },
     "execution_count": 3,
     "metadata": {},
     "output_type": "execute_result"
    }
   ],
   "source": [
    "type(a)"
   ]
  },
  {
   "cell_type": "code",
   "execution_count": 4,
   "id": "020766f7",
   "metadata": {},
   "outputs": [],
   "source": [
    "float_number = 5.23122\n",
    "Float_number = 1.2345\n",
    "\n",
    "# Float_number NON E' float_number"
   ]
  },
  {
   "cell_type": "code",
   "execution_count": 5,
   "id": "1a71eb1c",
   "metadata": {},
   "outputs": [
    {
     "data": {
      "text/plain": [
       "5.23122"
      ]
     },
     "execution_count": 5,
     "metadata": {},
     "output_type": "execute_result"
    }
   ],
   "source": [
    "float_number"
   ]
  },
  {
   "cell_type": "code",
   "execution_count": 6,
   "id": "554fce29",
   "metadata": {},
   "outputs": [
    {
     "data": {
      "text/plain": [
       "float"
      ]
     },
     "execution_count": 6,
     "metadata": {},
     "output_type": "execute_result"
    }
   ],
   "source": [
    "type(float_number)"
   ]
  },
  {
   "cell_type": "code",
   "execution_count": 7,
   "id": "70b17d73",
   "metadata": {},
   "outputs": [],
   "source": [
    "operatore_booleano_1 = True\n",
    "operatore_booleano_2 = False"
   ]
  },
  {
   "cell_type": "code",
   "execution_count": 8,
   "id": "cc9ab439",
   "metadata": {},
   "outputs": [
    {
     "data": {
      "text/plain": [
       "bool"
      ]
     },
     "execution_count": 8,
     "metadata": {},
     "output_type": "execute_result"
    }
   ],
   "source": [
    "type(operatore_booleano_1)"
   ]
  },
  {
   "cell_type": "code",
   "execution_count": 9,
   "id": "dbe9ead2",
   "metadata": {},
   "outputs": [],
   "source": [
    "una_stringa = \"ciao\""
   ]
  },
  {
   "cell_type": "code",
   "execution_count": 10,
   "id": "07c37721",
   "metadata": {},
   "outputs": [],
   "source": [
    "anche_questa_e_una_stringa = \"45\""
   ]
  },
  {
   "cell_type": "code",
   "execution_count": 11,
   "id": "4ae6b637",
   "metadata": {},
   "outputs": [],
   "source": [
    "questo_e_un_numero = 45"
   ]
  },
  {
   "cell_type": "code",
   "execution_count": 12,
   "id": "54674d93",
   "metadata": {},
   "outputs": [
    {
     "data": {
      "text/plain": [
       "str"
      ]
     },
     "execution_count": 12,
     "metadata": {},
     "output_type": "execute_result"
    }
   ],
   "source": [
    "type(una_stringa)"
   ]
  },
  {
   "cell_type": "code",
   "execution_count": 13,
   "id": "a8be2ccd",
   "metadata": {},
   "outputs": [
    {
     "data": {
      "text/plain": [
       "str"
      ]
     },
     "execution_count": 13,
     "metadata": {},
     "output_type": "execute_result"
    }
   ],
   "source": [
    "type(anche_questa_e_una_stringa)"
   ]
  },
  {
   "cell_type": "markdown",
   "id": "a1a06b14",
   "metadata": {},
   "source": [
    "## 1.2 Aritmetica\n",
    "\n",
    "* \\+ somma\n",
    "* \\- sottrazione\n",
    "* \\* moltiplicazione\n",
    "* \\*\\* elevazione  potenza\n",
    "* / divisione\n",
    "* // divisione intera (floor division), tronca il risultato\n",
    "* % resto della divisione intera (_mod_ in inglese)\n",
    "\n",
    "Nota stilistica: gli operatori vanno separati con degli spazi: <br>\n",
    "OK:<br>\n",
    "5 + 2<br>\n",
    "\n",
    "NON OK:<br>\n",
    "5+2<br>"
   ]
  },
  {
   "cell_type": "code",
   "execution_count": 14,
   "id": "a1c25881",
   "metadata": {},
   "outputs": [
    {
     "data": {
      "text/plain": [
       "7"
      ]
     },
     "execution_count": 14,
     "metadata": {},
     "output_type": "execute_result"
    }
   ],
   "source": [
    "5+2"
   ]
  },
  {
   "cell_type": "code",
   "execution_count": 15,
   "id": "6c99fed6",
   "metadata": {},
   "outputs": [
    {
     "data": {
      "text/plain": [
       "3"
      ]
     },
     "execution_count": 15,
     "metadata": {},
     "output_type": "execute_result"
    }
   ],
   "source": [
    "5-2"
   ]
  },
  {
   "cell_type": "code",
   "execution_count": 16,
   "id": "5ffb675f",
   "metadata": {},
   "outputs": [
    {
     "data": {
      "text/plain": [
       "10"
      ]
     },
     "execution_count": 16,
     "metadata": {},
     "output_type": "execute_result"
    }
   ],
   "source": [
    "5*2"
   ]
  },
  {
   "cell_type": "code",
   "execution_count": 17,
   "id": "56c5fea1",
   "metadata": {},
   "outputs": [
    {
     "data": {
      "text/plain": [
       "25"
      ]
     },
     "execution_count": 17,
     "metadata": {},
     "output_type": "execute_result"
    }
   ],
   "source": [
    "# 5 alla seconda\n",
    "5**2"
   ]
  },
  {
   "cell_type": "code",
   "execution_count": 18,
   "id": "b5eb8b29",
   "metadata": {},
   "outputs": [
    {
     "data": {
      "text/plain": [
       "2.5"
      ]
     },
     "execution_count": 18,
     "metadata": {},
     "output_type": "execute_result"
    }
   ],
   "source": [
    "5/2"
   ]
  },
  {
   "cell_type": "code",
   "execution_count": 19,
   "id": "c6394dc4",
   "metadata": {},
   "outputs": [
    {
     "data": {
      "text/plain": [
       "2"
      ]
     },
     "execution_count": 19,
     "metadata": {},
     "output_type": "execute_result"
    }
   ],
   "source": [
    "# divisione intera di 5 per 2\n",
    "5//2"
   ]
  },
  {
   "cell_type": "code",
   "execution_count": 20,
   "id": "262ce209",
   "metadata": {},
   "outputs": [
    {
     "data": {
      "text/plain": [
       "1"
      ]
     },
     "execution_count": 20,
     "metadata": {},
     "output_type": "execute_result"
    }
   ],
   "source": [
    "# resto della divisione intera di 5 per 2\n",
    "5%2"
   ]
  },
  {
   "cell_type": "markdown",
   "id": "8966469d",
   "metadata": {},
   "source": [
    "Attenzione: gli errori su Python vengono messi in evidenza dalle **exception** che vengono sollevate da operazioni di **traceback**"
   ]
  },
  {
   "cell_type": "code",
   "execution_count": 21,
   "id": "ccadbd23",
   "metadata": {},
   "outputs": [
    {
     "ename": "ZeroDivisionError",
     "evalue": "division by zero",
     "output_type": "error",
     "traceback": [
      "\u001b[1;31m-------------------------------------------------------------\u001b[0m",
      "\u001b[1;31mZeroDivisionError\u001b[0m           Traceback (most recent call last)",
      "\u001b[1;32m~\\AppData\\Local\\Temp/ipykernel_17100/2320644209.py\u001b[0m in \u001b[0;36m<module>\u001b[1;34m\u001b[0m\n\u001b[1;32m----> 1\u001b[1;33m \u001b[1;36m21\u001b[0m\u001b[1;33m/\u001b[0m\u001b[1;36m0\u001b[0m\u001b[1;33m\u001b[0m\u001b[1;33m\u001b[0m\u001b[0m\n\u001b[0m",
      "\u001b[1;31mZeroDivisionError\u001b[0m: division by zero"
     ]
    }
   ],
   "source": [
    "21/0"
   ]
  },
  {
   "cell_type": "code",
   "execution_count": 22,
   "id": "051a2c96",
   "metadata": {},
   "outputs": [
    {
     "ename": "TypeError",
     "evalue": "'type' object is not iterable",
     "output_type": "error",
     "traceback": [
      "\u001b[1;31m-------------------------------------------------------------\u001b[0m",
      "\u001b[1;31mTypeError\u001b[0m                   Traceback (most recent call last)",
      "\u001b[1;32m~\\AppData\\Local\\Temp/ipykernel_17100/131411312.py\u001b[0m in \u001b[0;36m<module>\u001b[1;34m\u001b[0m\n\u001b[1;32m----> 1\u001b[1;33m \u001b[0msum\u001b[0m\u001b[1;33m(\u001b[0m\u001b[0mtype\u001b[0m\u001b[1;33m(\u001b[0m\u001b[1;36m5\u001b[0m\u001b[1;33m)\u001b[0m\u001b[1;33m)\u001b[0m\u001b[1;33m\u001b[0m\u001b[1;33m\u001b[0m\u001b[0m\n\u001b[0m",
      "\u001b[1;31mTypeError\u001b[0m: 'type' object is not iterable"
     ]
    }
   ],
   "source": [
    "sum(type(5))"
   ]
  },
  {
   "cell_type": "code",
   "execution_count": 23,
   "id": "5cd77f23",
   "metadata": {},
   "outputs": [
    {
     "ename": "NameError",
     "evalue": "name 'z' is not defined",
     "output_type": "error",
     "traceback": [
      "\u001b[1;31m-------------------------------------------------------------\u001b[0m",
      "\u001b[1;31mNameError\u001b[0m                   Traceback (most recent call last)",
      "\u001b[1;32m~\\AppData\\Local\\Temp/ipykernel_17100/1611587540.py\u001b[0m in \u001b[0;36m<module>\u001b[1;34m\u001b[0m\n\u001b[1;32m----> 1\u001b[1;33m \u001b[0mz\u001b[0m \u001b[1;33m+\u001b[0m \u001b[1;36m8\u001b[0m\u001b[1;33m\u001b[0m\u001b[1;33m\u001b[0m\u001b[0m\n\u001b[0m",
      "\u001b[1;31mNameError\u001b[0m: name 'z' is not defined"
     ]
    }
   ],
   "source": [
    "z + 8"
   ]
  },
  {
   "cell_type": "code",
   "execution_count": 24,
   "id": "f3cddded",
   "metadata": {},
   "outputs": [
    {
     "data": {
      "text/plain": [
       "21"
      ]
     },
     "execution_count": 24,
     "metadata": {},
     "output_type": "execute_result"
    }
   ],
   "source": [
    "# nelle operazioni aritmetiche le parentesi sono solo quelle tonde\n",
    "(5+2) * 3"
   ]
  },
  {
   "cell_type": "code",
   "execution_count": 25,
   "id": "0672fe69",
   "metadata": {},
   "outputs": [
    {
     "data": {
      "text/plain": [
       "11"
      ]
     },
     "execution_count": 25,
     "metadata": {},
     "output_type": "execute_result"
    }
   ],
   "source": [
    "5 + 2 * 3 "
   ]
  },
  {
   "cell_type": "code",
   "execution_count": 26,
   "id": "50591a5c",
   "metadata": {},
   "outputs": [
    {
     "data": {
      "text/plain": [
       "34"
      ]
     },
     "execution_count": 26,
     "metadata": {},
     "output_type": "execute_result"
    }
   ],
   "source": [
    "# sono ammesse le parentesi, anche rindondanti (ma meglio evitarle)\n",
    "(5+2) + ((3*(7+2)))"
   ]
  },
  {
   "cell_type": "code",
   "execution_count": 27,
   "id": "53cf9127",
   "metadata": {},
   "outputs": [
    {
     "data": {
      "text/plain": [
       "[7, 7, 7, 7, 7]"
      ]
     },
     "execution_count": 27,
     "metadata": {},
     "output_type": "execute_result"
    }
   ],
   "source": [
    "# non posso usare le parentesi quadre e graffe nei calcoli matematici:\n",
    "\n",
    "[3+4] * 5"
   ]
  },
  {
   "cell_type": "code",
   "execution_count": 28,
   "id": "000950af",
   "metadata": {},
   "outputs": [
    {
     "ename": "TypeError",
     "evalue": "unsupported operand type(s) for *: 'set' and 'int'",
     "output_type": "error",
     "traceback": [
      "\u001b[1;31m-------------------------------------------------------------\u001b[0m",
      "\u001b[1;31mTypeError\u001b[0m                   Traceback (most recent call last)",
      "\u001b[1;32m~\\AppData\\Local\\Temp/ipykernel_17100/652469916.py\u001b[0m in \u001b[0;36m<module>\u001b[1;34m\u001b[0m\n\u001b[1;32m----> 1\u001b[1;33m \u001b[1;33m{\u001b[0m\u001b[1;36m4\u001b[0m\u001b[1;33m*\u001b[0m\u001b[1;36m2\u001b[0m\u001b[1;33m}\u001b[0m \u001b[1;33m*\u001b[0m \u001b[1;36m2\u001b[0m\u001b[1;33m\u001b[0m\u001b[1;33m\u001b[0m\u001b[0m\n\u001b[0m",
      "\u001b[1;31mTypeError\u001b[0m: unsupported operand type(s) for *: 'set' and 'int'"
     ]
    }
   ],
   "source": [
    "{4*2} * 2"
   ]
  },
  {
   "cell_type": "code",
   "execution_count": 29,
   "id": "cf2fbd13",
   "metadata": {},
   "outputs": [
    {
     "data": {
      "text/plain": [
       "5.234"
      ]
     },
     "execution_count": 29,
     "metadata": {},
     "output_type": "execute_result"
    }
   ],
   "source": [
    "# il separatore decimale e' il punto:\n",
    "5.234\n"
   ]
  },
  {
   "cell_type": "code",
   "execution_count": 30,
   "id": "161811fd",
   "metadata": {},
   "outputs": [
    {
     "data": {
      "text/plain": [
       "(5, 234)"
      ]
     },
     "execution_count": 30,
     "metadata": {},
     "output_type": "execute_result"
    }
   ],
   "source": [
    "5,234"
   ]
  },
  {
   "cell_type": "code",
   "execution_count": 31,
   "id": "3941a410",
   "metadata": {},
   "outputs": [
    {
     "data": {
      "text/plain": [
       "[5, 234]"
      ]
     },
     "execution_count": 31,
     "metadata": {},
     "output_type": "execute_result"
    }
   ],
   "source": [
    "[5, 234]"
   ]
  },
  {
   "cell_type": "markdown",
   "id": "88d703f2",
   "metadata": {},
   "source": [
    "## Esercizietti:\n",
    "* calcola y = a*z^3 +7 con **a** e **z** pari a due numeri a tua scelta.\n",
    "* confronta\n",
    "    * y = 4^3^2\n",
    "    * y = (4^3)^2\n",
    "    * y = 4^(3^2)\n"
   ]
  },
  {
   "cell_type": "code",
   "execution_count": 32,
   "id": "19f68001",
   "metadata": {},
   "outputs": [
    {
     "data": {
      "text/plain": [
       "2.0"
      ]
     },
     "execution_count": 32,
     "metadata": {},
     "output_type": "execute_result"
    }
   ],
   "source": [
    "a = 4/2\n",
    "a"
   ]
  },
  {
   "cell_type": "code",
   "execution_count": 33,
   "id": "d6d90dfa",
   "metadata": {},
   "outputs": [
    {
     "data": {
      "text/plain": [
       "2"
      ]
     },
     "execution_count": 33,
     "metadata": {},
     "output_type": "execute_result"
    }
   ],
   "source": [
    "b = 4//2\n",
    "b"
   ]
  },
  {
   "cell_type": "code",
   "execution_count": 34,
   "id": "1cdbef06",
   "metadata": {},
   "outputs": [
    {
     "data": {
      "text/plain": [
       "False"
      ]
     },
     "execution_count": 34,
     "metadata": {},
     "output_type": "execute_result"
    }
   ],
   "source": [
    "type(a) == type(b)"
   ]
  },
  {
   "cell_type": "code",
   "execution_count": 35,
   "id": "25d6c3b5",
   "metadata": {},
   "outputs": [
    {
     "data": {
      "text/plain": [
       "\"Questa e' una stringa\""
      ]
     },
     "execution_count": 35,
     "metadata": {},
     "output_type": "execute_result"
    }
   ],
   "source": [
    "\"Questa e' una stringa\""
   ]
  },
  {
   "cell_type": "code",
   "execution_count": 36,
   "id": "5a95a409",
   "metadata": {},
   "outputs": [
    {
     "data": {
      "text/plain": [
       "\"Questa e' un' altra stringa\""
      ]
     },
     "execution_count": 36,
     "metadata": {},
     "output_type": "execute_result"
    }
   ],
   "source": [
    "'Questa e\\' un\\' altra stringa'"
   ]
  },
  {
   "cell_type": "code",
   "execution_count": null,
   "id": "47bbcabf",
   "metadata": {},
   "outputs": [],
   "source": []
  },
  {
   "cell_type": "code",
   "execution_count": null,
   "id": "10bf7c5b",
   "metadata": {},
   "outputs": [],
   "source": []
  },
  {
   "cell_type": "code",
   "execution_count": 4,
   "id": "d4ad3235",
   "metadata": {},
   "outputs": [
    {
     "name": "stdout",
     "output_type": "stream",
     "text": [
      "Inserisci due interi, e ti diro' in che relazione sono.\n",
      "Inserisci il primo intero: 20\n",
      "Inserisci il secondo intero: 30\n",
      "20 e' diverso da 30\n",
      "20 e' minore di 30\n",
      "20 e' minore o uguale a 30\n"
     ]
    }
   ],
   "source": [
    "run Scriptino.py"
   ]
  },
  {
   "cell_type": "code",
   "execution_count": null,
   "id": "4fbcc25b",
   "metadata": {},
   "outputs": [],
   "source": []
  },
  {
   "cell_type": "code",
   "execution_count": null,
   "id": "2ce49c18",
   "metadata": {},
   "outputs": [],
   "source": []
  },
  {
   "cell_type": "code",
   "execution_count": null,
   "id": "089a1ef8",
   "metadata": {},
   "outputs": [],
   "source": []
  },
  {
   "cell_type": "code",
   "execution_count": null,
   "id": "9a6d9c68",
   "metadata": {},
   "outputs": [],
   "source": []
  },
  {
   "cell_type": "code",
   "execution_count": null,
   "id": "79d4967b",
   "metadata": {},
   "outputs": [],
   "source": []
  },
  {
   "cell_type": "code",
   "execution_count": null,
   "id": "0a616b27",
   "metadata": {},
   "outputs": [],
   "source": []
  },
  {
   "cell_type": "code",
   "execution_count": null,
   "id": "cdcd77d6",
   "metadata": {},
   "outputs": [],
   "source": []
  },
  {
   "cell_type": "markdown",
   "id": "d7dc29af",
   "metadata": {},
   "source": []
  },
  {
   "cell_type": "code",
   "execution_count": null,
   "id": "51198f43",
   "metadata": {},
   "outputs": [],
   "source": []
  },
  {
   "cell_type": "code",
   "execution_count": null,
   "id": "2a3dadef",
   "metadata": {},
   "outputs": [],
   "source": []
  },
  {
   "cell_type": "code",
   "execution_count": null,
   "id": "5e3cbec6",
   "metadata": {},
   "outputs": [],
   "source": []
  },
  {
   "cell_type": "code",
   "execution_count": null,
   "id": "31225227",
   "metadata": {},
   "outputs": [],
   "source": []
  }
 ],
 "metadata": {
  "kernelspec": {
   "display_name": "Python 3 (ipykernel)",
   "language": "python",
   "name": "python3"
  },
  "language_info": {
   "codemirror_mode": {
    "name": "ipython",
    "version": 3
   },
   "file_extension": ".py",
   "mimetype": "text/x-python",
   "name": "python",
   "nbconvert_exporter": "python",
   "pygments_lexer": "ipython3",
   "version": "3.9.5"
  }
 },
 "nbformat": 4,
 "nbformat_minor": 5
}
