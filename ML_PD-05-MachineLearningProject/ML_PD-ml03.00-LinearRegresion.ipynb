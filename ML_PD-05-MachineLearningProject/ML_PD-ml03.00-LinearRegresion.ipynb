{
 "cells": [
  {
   "cell_type": "code",
   "execution_count": 108,
   "metadata": {
    "pycharm": {
     "name": "#%%\n"
    }
   },
   "outputs": [],
   "source": [
    "import pandas as pd\n",
    "import numpy as np\n",
    "\n",
    "import matplotlib.pyplot as plt\n",
    "import seaborn as sns\n",
    "\n",
    "\n",
    "from sklearn.model_selection import train_test_split\n",
    "from sklearn.linear_model import LinearRegression\n",
    "\n",
    "SEED = 42\n"
   ]
  },
  {
   "cell_type": "code",
   "execution_count": 87,
   "metadata": {
    "pycharm": {
     "name": "#%%\n"
    }
   },
   "outputs": [
    {
     "data": {
      "text/html": [
       "<div>\n",
       "<style scoped>\n",
       "    .dataframe tbody tr th:only-of-type {\n",
       "        vertical-align: middle;\n",
       "    }\n",
       "\n",
       "    .dataframe tbody tr th {\n",
       "        vertical-align: top;\n",
       "    }\n",
       "\n",
       "    .dataframe thead th {\n",
       "        text-align: right;\n",
       "    }\n",
       "</style>\n",
       "<table border=\"1\" class=\"dataframe\">\n",
       "  <thead>\n",
       "    <tr style=\"text-align: right;\">\n",
       "      <th></th>\n",
       "      <th>open</th>\n",
       "      <th>high</th>\n",
       "      <th>low</th>\n",
       "      <th>close</th>\n",
       "      <th>volume</th>\n",
       "      <th>timestamp</th>\n",
       "      <th>formattedOpen</th>\n",
       "      <th>formattedHigh</th>\n",
       "      <th>formattedLow</th>\n",
       "      <th>formattedClose</th>\n",
       "      <th>formattedVolume</th>\n",
       "      <th>formattedTimestamp</th>\n",
       "      <th>relatedNews</th>\n",
       "      <th>issue</th>\n",
       "      <th>redemption</th>\n",
       "      <th>highLow</th>\n",
       "      <th>peCode</th>\n",
       "      <th>newsPnacWithCsk</th>\n",
       "      <th>Date</th>\n",
       "    </tr>\n",
       "  </thead>\n",
       "  <tbody>\n",
       "    <tr>\n",
       "      <th>0</th>\n",
       "      <td>40.35</td>\n",
       "      <td>40.66</td>\n",
       "      <td>40.25</td>\n",
       "      <td>40.33</td>\n",
       "      <td>0</td>\n",
       "      <td>2012-05-07T02:00:00+02:00</td>\n",
       "      <td>40.35</td>\n",
       "      <td>40.66</td>\n",
       "      <td>40.25</td>\n",
       "      <td>40.33</td>\n",
       "      <td>0</td>\n",
       "      <td>07/05/2012</td>\n",
       "      <td>NaN</td>\n",
       "      <td>0</td>\n",
       "      <td>1</td>\n",
       "      <td>[object Object]</td>\n",
       "      <td>[object Object]</td>\n",
       "      <td>NaN</td>\n",
       "      <td>2012-05-07</td>\n",
       "    </tr>\n",
       "    <tr>\n",
       "      <th>1</th>\n",
       "      <td>40.33</td>\n",
       "      <td>40.41</td>\n",
       "      <td>39.53</td>\n",
       "      <td>39.70</td>\n",
       "      <td>0</td>\n",
       "      <td>2012-05-08T02:00:00+02:00</td>\n",
       "      <td>40.33</td>\n",
       "      <td>40.41</td>\n",
       "      <td>39.53</td>\n",
       "      <td>39.70</td>\n",
       "      <td>0</td>\n",
       "      <td>08/05/2012</td>\n",
       "      <td>NaN</td>\n",
       "      <td>0</td>\n",
       "      <td>1</td>\n",
       "      <td>[object Object]</td>\n",
       "      <td>[object Object]</td>\n",
       "      <td>NaN</td>\n",
       "      <td>2012-05-08</td>\n",
       "    </tr>\n",
       "    <tr>\n",
       "      <th>2</th>\n",
       "      <td>39.71</td>\n",
       "      <td>39.75</td>\n",
       "      <td>39.18</td>\n",
       "      <td>39.54</td>\n",
       "      <td>0</td>\n",
       "      <td>2012-05-09T02:00:00+02:00</td>\n",
       "      <td>39.71</td>\n",
       "      <td>39.75</td>\n",
       "      <td>39.18</td>\n",
       "      <td>39.54</td>\n",
       "      <td>0</td>\n",
       "      <td>09/05/2012</td>\n",
       "      <td>NaN</td>\n",
       "      <td>0</td>\n",
       "      <td>1</td>\n",
       "      <td>[object Object]</td>\n",
       "      <td>[object Object]</td>\n",
       "      <td>NaN</td>\n",
       "      <td>2012-05-09</td>\n",
       "    </tr>\n",
       "    <tr>\n",
       "      <th>3</th>\n",
       "      <td>39.55</td>\n",
       "      <td>39.69</td>\n",
       "      <td>39.44</td>\n",
       "      <td>39.64</td>\n",
       "      <td>0</td>\n",
       "      <td>2012-05-10T02:00:00+02:00</td>\n",
       "      <td>39.55</td>\n",
       "      <td>39.69</td>\n",
       "      <td>39.44</td>\n",
       "      <td>39.64</td>\n",
       "      <td>0</td>\n",
       "      <td>10/05/2012</td>\n",
       "      <td>NaN</td>\n",
       "      <td>0</td>\n",
       "      <td>1</td>\n",
       "      <td>[object Object]</td>\n",
       "      <td>[object Object]</td>\n",
       "      <td>NaN</td>\n",
       "      <td>2012-05-10</td>\n",
       "    </tr>\n",
       "    <tr>\n",
       "      <th>4</th>\n",
       "      <td>39.64</td>\n",
       "      <td>39.66</td>\n",
       "      <td>39.18</td>\n",
       "      <td>39.33</td>\n",
       "      <td>0</td>\n",
       "      <td>2012-05-11T02:00:00+02:00</td>\n",
       "      <td>39.64</td>\n",
       "      <td>39.66</td>\n",
       "      <td>39.18</td>\n",
       "      <td>39.33</td>\n",
       "      <td>0</td>\n",
       "      <td>11/05/2012</td>\n",
       "      <td>NaN</td>\n",
       "      <td>0</td>\n",
       "      <td>1</td>\n",
       "      <td>[object Object]</td>\n",
       "      <td>[object Object]</td>\n",
       "      <td>NaN</td>\n",
       "      <td>2012-05-11</td>\n",
       "    </tr>\n",
       "  </tbody>\n",
       "</table>\n",
       "</div>"
      ],
      "text/plain": [
       "    open   high    low  close  volume                  timestamp  \\\n",
       "0  40.35  40.66  40.25  40.33       0  2012-05-07T02:00:00+02:00   \n",
       "1  40.33  40.41  39.53  39.70       0  2012-05-08T02:00:00+02:00   \n",
       "2  39.71  39.75  39.18  39.54       0  2012-05-09T02:00:00+02:00   \n",
       "3  39.55  39.69  39.44  39.64       0  2012-05-10T02:00:00+02:00   \n",
       "4  39.64  39.66  39.18  39.33       0  2012-05-11T02:00:00+02:00   \n",
       "\n",
       "   formattedOpen  formattedHigh  formattedLow  formattedClose  \\\n",
       "0          40.35          40.66         40.25           40.33   \n",
       "1          40.33          40.41         39.53           39.70   \n",
       "2          39.71          39.75         39.18           39.54   \n",
       "3          39.55          39.69         39.44           39.64   \n",
       "4          39.64          39.66         39.18           39.33   \n",
       "\n",
       "   formattedVolume formattedTimestamp  relatedNews  issue  redemption  \\\n",
       "0                0         07/05/2012          NaN      0           1   \n",
       "1                0         08/05/2012          NaN      0           1   \n",
       "2                0         09/05/2012          NaN      0           1   \n",
       "3                0         10/05/2012          NaN      0           1   \n",
       "4                0         11/05/2012          NaN      0           1   \n",
       "\n",
       "           highLow           peCode  newsPnacWithCsk        Date  \n",
       "0  [object Object]  [object Object]              NaN  2012-05-07  \n",
       "1  [object Object]  [object Object]              NaN  2012-05-08  \n",
       "2  [object Object]  [object Object]              NaN  2012-05-09  \n",
       "3  [object Object]  [object Object]              NaN  2012-05-10  \n",
       "4  [object Object]  [object Object]              NaN  2012-05-11  "
      ]
     },
     "execution_count": 87,
     "metadata": {},
     "output_type": "execute_result"
    }
   ],
   "source": [
    "my_file = \"quatazione_oro_12-22.csv\"\n",
    "\n",
    "oro_df = pd.read_csv(my_file)\n",
    "\n",
    "oro_df.head()\n"
   ]
  },
  {
   "cell_type": "code",
   "execution_count": 88,
   "metadata": {},
   "outputs": [
    {
     "data": {
      "text/plain": [
       "(2608, 19)"
      ]
     },
     "execution_count": 88,
     "metadata": {},
     "output_type": "execute_result"
    }
   ],
   "source": [
    "oro_df.shape"
   ]
  },
  {
   "cell_type": "code",
   "execution_count": 89,
   "metadata": {},
   "outputs": [
    {
     "data": {
      "text/html": [
       "<div>\n",
       "<style scoped>\n",
       "    .dataframe tbody tr th:only-of-type {\n",
       "        vertical-align: middle;\n",
       "    }\n",
       "\n",
       "    .dataframe tbody tr th {\n",
       "        vertical-align: top;\n",
       "    }\n",
       "\n",
       "    .dataframe thead th {\n",
       "        text-align: right;\n",
       "    }\n",
       "</style>\n",
       "<table border=\"1\" class=\"dataframe\">\n",
       "  <thead>\n",
       "    <tr style=\"text-align: right;\">\n",
       "      <th></th>\n",
       "      <th>count</th>\n",
       "      <th>unique</th>\n",
       "      <th>top</th>\n",
       "      <th>freq</th>\n",
       "      <th>mean</th>\n",
       "      <th>std</th>\n",
       "      <th>min</th>\n",
       "      <th>25%</th>\n",
       "      <th>50%</th>\n",
       "      <th>75%</th>\n",
       "      <th>max</th>\n",
       "    </tr>\n",
       "  </thead>\n",
       "  <tbody>\n",
       "    <tr>\n",
       "      <th>open</th>\n",
       "      <td>2608.0</td>\n",
       "      <td>NaN</td>\n",
       "      <td>NaN</td>\n",
       "      <td>NaN</td>\n",
       "      <td>39.027439</td>\n",
       "      <td>7.165659</td>\n",
       "      <td>27.92</td>\n",
       "      <td>33.93</td>\n",
       "      <td>36.365</td>\n",
       "      <td>43.7625</td>\n",
       "      <td>60.51</td>\n",
       "    </tr>\n",
       "    <tr>\n",
       "      <th>high</th>\n",
       "      <td>2608.0</td>\n",
       "      <td>NaN</td>\n",
       "      <td>NaN</td>\n",
       "      <td>NaN</td>\n",
       "      <td>39.276664</td>\n",
       "      <td>7.228148</td>\n",
       "      <td>28.2</td>\n",
       "      <td>34.225</td>\n",
       "      <td>36.545</td>\n",
       "      <td>44.06</td>\n",
       "      <td>61.17</td>\n",
       "    </tr>\n",
       "    <tr>\n",
       "      <th>low</th>\n",
       "      <td>2608.0</td>\n",
       "      <td>NaN</td>\n",
       "      <td>NaN</td>\n",
       "      <td>NaN</td>\n",
       "      <td>38.775786</td>\n",
       "      <td>7.10049</td>\n",
       "      <td>27.63</td>\n",
       "      <td>33.68</td>\n",
       "      <td>36.17</td>\n",
       "      <td>43.51</td>\n",
       "      <td>58.64</td>\n",
       "    </tr>\n",
       "    <tr>\n",
       "      <th>close</th>\n",
       "      <td>2608.0</td>\n",
       "      <td>NaN</td>\n",
       "      <td>NaN</td>\n",
       "      <td>NaN</td>\n",
       "      <td>39.029797</td>\n",
       "      <td>7.172582</td>\n",
       "      <td>27.91</td>\n",
       "      <td>33.9275</td>\n",
       "      <td>36.355</td>\n",
       "      <td>43.7625</td>\n",
       "      <td>60.49</td>\n",
       "    </tr>\n",
       "    <tr>\n",
       "      <th>volume</th>\n",
       "      <td>2608.0</td>\n",
       "      <td>NaN</td>\n",
       "      <td>NaN</td>\n",
       "      <td>NaN</td>\n",
       "      <td>0.0</td>\n",
       "      <td>0.0</td>\n",
       "      <td>0.0</td>\n",
       "      <td>0.0</td>\n",
       "      <td>0.0</td>\n",
       "      <td>0.0</td>\n",
       "      <td>0.0</td>\n",
       "    </tr>\n",
       "    <tr>\n",
       "      <th>timestamp</th>\n",
       "      <td>2608</td>\n",
       "      <td>2608</td>\n",
       "      <td>2012-05-07T02:00:00+02:00</td>\n",
       "      <td>1</td>\n",
       "      <td>NaN</td>\n",
       "      <td>NaN</td>\n",
       "      <td>NaN</td>\n",
       "      <td>NaN</td>\n",
       "      <td>NaN</td>\n",
       "      <td>NaN</td>\n",
       "      <td>NaN</td>\n",
       "    </tr>\n",
       "    <tr>\n",
       "      <th>formattedOpen</th>\n",
       "      <td>2608.0</td>\n",
       "      <td>NaN</td>\n",
       "      <td>NaN</td>\n",
       "      <td>NaN</td>\n",
       "      <td>39.027439</td>\n",
       "      <td>7.165659</td>\n",
       "      <td>27.92</td>\n",
       "      <td>33.93</td>\n",
       "      <td>36.365</td>\n",
       "      <td>43.7625</td>\n",
       "      <td>60.51</td>\n",
       "    </tr>\n",
       "    <tr>\n",
       "      <th>formattedHigh</th>\n",
       "      <td>2608.0</td>\n",
       "      <td>NaN</td>\n",
       "      <td>NaN</td>\n",
       "      <td>NaN</td>\n",
       "      <td>39.276664</td>\n",
       "      <td>7.228148</td>\n",
       "      <td>28.2</td>\n",
       "      <td>34.225</td>\n",
       "      <td>36.545</td>\n",
       "      <td>44.06</td>\n",
       "      <td>61.17</td>\n",
       "    </tr>\n",
       "    <tr>\n",
       "      <th>formattedLow</th>\n",
       "      <td>2608.0</td>\n",
       "      <td>NaN</td>\n",
       "      <td>NaN</td>\n",
       "      <td>NaN</td>\n",
       "      <td>38.775786</td>\n",
       "      <td>7.10049</td>\n",
       "      <td>27.63</td>\n",
       "      <td>33.68</td>\n",
       "      <td>36.17</td>\n",
       "      <td>43.51</td>\n",
       "      <td>58.64</td>\n",
       "    </tr>\n",
       "    <tr>\n",
       "      <th>formattedClose</th>\n",
       "      <td>2608.0</td>\n",
       "      <td>NaN</td>\n",
       "      <td>NaN</td>\n",
       "      <td>NaN</td>\n",
       "      <td>39.029797</td>\n",
       "      <td>7.172582</td>\n",
       "      <td>27.91</td>\n",
       "      <td>33.9275</td>\n",
       "      <td>36.355</td>\n",
       "      <td>43.7625</td>\n",
       "      <td>60.49</td>\n",
       "    </tr>\n",
       "    <tr>\n",
       "      <th>formattedVolume</th>\n",
       "      <td>2608.0</td>\n",
       "      <td>NaN</td>\n",
       "      <td>NaN</td>\n",
       "      <td>NaN</td>\n",
       "      <td>0.0</td>\n",
       "      <td>0.0</td>\n",
       "      <td>0.0</td>\n",
       "      <td>0.0</td>\n",
       "      <td>0.0</td>\n",
       "      <td>0.0</td>\n",
       "      <td>0.0</td>\n",
       "    </tr>\n",
       "    <tr>\n",
       "      <th>formattedTimestamp</th>\n",
       "      <td>2608</td>\n",
       "      <td>2608</td>\n",
       "      <td>07/05/2012</td>\n",
       "      <td>1</td>\n",
       "      <td>NaN</td>\n",
       "      <td>NaN</td>\n",
       "      <td>NaN</td>\n",
       "      <td>NaN</td>\n",
       "      <td>NaN</td>\n",
       "      <td>NaN</td>\n",
       "      <td>NaN</td>\n",
       "    </tr>\n",
       "    <tr>\n",
       "      <th>relatedNews</th>\n",
       "      <td>0.0</td>\n",
       "      <td>NaN</td>\n",
       "      <td>NaN</td>\n",
       "      <td>NaN</td>\n",
       "      <td>NaN</td>\n",
       "      <td>NaN</td>\n",
       "      <td>NaN</td>\n",
       "      <td>NaN</td>\n",
       "      <td>NaN</td>\n",
       "      <td>NaN</td>\n",
       "      <td>NaN</td>\n",
       "    </tr>\n",
       "    <tr>\n",
       "      <th>issue</th>\n",
       "      <td>2608.0</td>\n",
       "      <td>NaN</td>\n",
       "      <td>NaN</td>\n",
       "      <td>NaN</td>\n",
       "      <td>0.0</td>\n",
       "      <td>0.0</td>\n",
       "      <td>0.0</td>\n",
       "      <td>0.0</td>\n",
       "      <td>0.0</td>\n",
       "      <td>0.0</td>\n",
       "      <td>0.0</td>\n",
       "    </tr>\n",
       "    <tr>\n",
       "      <th>redemption</th>\n",
       "      <td>2608.0</td>\n",
       "      <td>NaN</td>\n",
       "      <td>NaN</td>\n",
       "      <td>NaN</td>\n",
       "      <td>1.0</td>\n",
       "      <td>0.0</td>\n",
       "      <td>1.0</td>\n",
       "      <td>1.0</td>\n",
       "      <td>1.0</td>\n",
       "      <td>1.0</td>\n",
       "      <td>1.0</td>\n",
       "    </tr>\n",
       "    <tr>\n",
       "      <th>highLow</th>\n",
       "      <td>2608</td>\n",
       "      <td>1</td>\n",
       "      <td>[object Object]</td>\n",
       "      <td>2608</td>\n",
       "      <td>NaN</td>\n",
       "      <td>NaN</td>\n",
       "      <td>NaN</td>\n",
       "      <td>NaN</td>\n",
       "      <td>NaN</td>\n",
       "      <td>NaN</td>\n",
       "      <td>NaN</td>\n",
       "    </tr>\n",
       "    <tr>\n",
       "      <th>peCode</th>\n",
       "      <td>2608</td>\n",
       "      <td>1</td>\n",
       "      <td>[object Object]</td>\n",
       "      <td>2608</td>\n",
       "      <td>NaN</td>\n",
       "      <td>NaN</td>\n",
       "      <td>NaN</td>\n",
       "      <td>NaN</td>\n",
       "      <td>NaN</td>\n",
       "      <td>NaN</td>\n",
       "      <td>NaN</td>\n",
       "    </tr>\n",
       "    <tr>\n",
       "      <th>newsPnacWithCsk</th>\n",
       "      <td>0.0</td>\n",
       "      <td>NaN</td>\n",
       "      <td>NaN</td>\n",
       "      <td>NaN</td>\n",
       "      <td>NaN</td>\n",
       "      <td>NaN</td>\n",
       "      <td>NaN</td>\n",
       "      <td>NaN</td>\n",
       "      <td>NaN</td>\n",
       "      <td>NaN</td>\n",
       "      <td>NaN</td>\n",
       "    </tr>\n",
       "    <tr>\n",
       "      <th>Date</th>\n",
       "      <td>2608</td>\n",
       "      <td>2608</td>\n",
       "      <td>2012-05-07</td>\n",
       "      <td>1</td>\n",
       "      <td>NaN</td>\n",
       "      <td>NaN</td>\n",
       "      <td>NaN</td>\n",
       "      <td>NaN</td>\n",
       "      <td>NaN</td>\n",
       "      <td>NaN</td>\n",
       "      <td>NaN</td>\n",
       "    </tr>\n",
       "  </tbody>\n",
       "</table>\n",
       "</div>"
      ],
      "text/plain": [
       "                     count unique                        top  freq       mean  \\\n",
       "open                2608.0    NaN                        NaN   NaN  39.027439   \n",
       "high                2608.0    NaN                        NaN   NaN  39.276664   \n",
       "low                 2608.0    NaN                        NaN   NaN  38.775786   \n",
       "close               2608.0    NaN                        NaN   NaN  39.029797   \n",
       "volume              2608.0    NaN                        NaN   NaN        0.0   \n",
       "timestamp             2608   2608  2012-05-07T02:00:00+02:00     1        NaN   \n",
       "formattedOpen       2608.0    NaN                        NaN   NaN  39.027439   \n",
       "formattedHigh       2608.0    NaN                        NaN   NaN  39.276664   \n",
       "formattedLow        2608.0    NaN                        NaN   NaN  38.775786   \n",
       "formattedClose      2608.0    NaN                        NaN   NaN  39.029797   \n",
       "formattedVolume     2608.0    NaN                        NaN   NaN        0.0   \n",
       "formattedTimestamp    2608   2608                 07/05/2012     1        NaN   \n",
       "relatedNews            0.0    NaN                        NaN   NaN        NaN   \n",
       "issue               2608.0    NaN                        NaN   NaN        0.0   \n",
       "redemption          2608.0    NaN                        NaN   NaN        1.0   \n",
       "highLow               2608      1            [object Object]  2608        NaN   \n",
       "peCode                2608      1            [object Object]  2608        NaN   \n",
       "newsPnacWithCsk        0.0    NaN                        NaN   NaN        NaN   \n",
       "Date                  2608   2608                 2012-05-07     1        NaN   \n",
       "\n",
       "                         std    min      25%     50%      75%    max  \n",
       "open                7.165659  27.92    33.93  36.365  43.7625  60.51  \n",
       "high                7.228148   28.2   34.225  36.545    44.06  61.17  \n",
       "low                  7.10049  27.63    33.68   36.17    43.51  58.64  \n",
       "close               7.172582  27.91  33.9275  36.355  43.7625  60.49  \n",
       "volume                   0.0    0.0      0.0     0.0      0.0    0.0  \n",
       "timestamp                NaN    NaN      NaN     NaN      NaN    NaN  \n",
       "formattedOpen       7.165659  27.92    33.93  36.365  43.7625  60.51  \n",
       "formattedHigh       7.228148   28.2   34.225  36.545    44.06  61.17  \n",
       "formattedLow         7.10049  27.63    33.68   36.17    43.51  58.64  \n",
       "formattedClose      7.172582  27.91  33.9275  36.355  43.7625  60.49  \n",
       "formattedVolume          0.0    0.0      0.0     0.0      0.0    0.0  \n",
       "formattedTimestamp       NaN    NaN      NaN     NaN      NaN    NaN  \n",
       "relatedNews              NaN    NaN      NaN     NaN      NaN    NaN  \n",
       "issue                    0.0    0.0      0.0     0.0      0.0    0.0  \n",
       "redemption               0.0    1.0      1.0     1.0      1.0    1.0  \n",
       "highLow                  NaN    NaN      NaN     NaN      NaN    NaN  \n",
       "peCode                   NaN    NaN      NaN     NaN      NaN    NaN  \n",
       "newsPnacWithCsk          NaN    NaN      NaN     NaN      NaN    NaN  \n",
       "Date                     NaN    NaN      NaN     NaN      NaN    NaN  "
      ]
     },
     "execution_count": 89,
     "metadata": {},
     "output_type": "execute_result"
    }
   ],
   "source": [
    "oro_df.describe(include=\"all\").T"
   ]
  },
  {
   "cell_type": "code",
   "execution_count": 90,
   "metadata": {},
   "outputs": [
    {
     "data": {
      "text/plain": [
       "Index(['open', 'high', 'low', 'close', 'volume', 'timestamp', 'formattedOpen',\n",
       "       'formattedHigh', 'formattedLow', 'formattedClose', 'formattedVolume',\n",
       "       'formattedTimestamp', 'relatedNews', 'issue', 'redemption', 'highLow',\n",
       "       'peCode', 'newsPnacWithCsk', 'Date'],\n",
       "      dtype='object')"
      ]
     },
     "execution_count": 90,
     "metadata": {},
     "output_type": "execute_result"
    }
   ],
   "source": [
    "oro_df.columns"
   ]
  },
  {
   "cell_type": "code",
   "execution_count": 91,
   "metadata": {},
   "outputs": [],
   "source": [
    "oro_df.Date = pd.to_datetime(oro_df.Date)"
   ]
  },
  {
   "cell_type": "code",
   "execution_count": 92,
   "metadata": {},
   "outputs": [
    {
     "data": {
      "text/plain": [
       "0"
      ]
     },
     "execution_count": 92,
     "metadata": {},
     "output_type": "execute_result"
    }
   ],
   "source": [
    "(oro_df.Date.value_counts()>1).sum()"
   ]
  },
  {
   "cell_type": "code",
   "execution_count": 93,
   "metadata": {},
   "outputs": [],
   "source": [
    "oro_df = oro_df.set_index(\"Date\").loc[:,['open', 'high', 'low', 'close']]\n"
   ]
  },
  {
   "cell_type": "code",
   "execution_count": 94,
   "metadata": {},
   "outputs": [
    {
     "data": {
      "text/plain": [
       "open     float64\n",
       "high     float64\n",
       "low      float64\n",
       "close    float64\n",
       "dtype: object"
      ]
     },
     "execution_count": 94,
     "metadata": {},
     "output_type": "execute_result"
    }
   ],
   "source": [
    "oro_df.dtypes"
   ]
  },
  {
   "cell_type": "code",
   "execution_count": 95,
   "metadata": {},
   "outputs": [
    {
     "data": {
      "text/plain": [
       "DatetimeIndex(['2012-05-07', '2012-05-08', '2012-05-09', '2012-05-10',\n",
       "               '2012-05-11', '2012-05-14', '2012-05-15', '2012-05-16',\n",
       "               '2012-05-17', '2012-05-18',\n",
       "               ...\n",
       "               '2022-04-22', '2022-04-25', '2022-04-26', '2022-04-27',\n",
       "               '2022-04-28', '2022-04-29', '2022-05-02', '2022-05-03',\n",
       "               '2022-05-04', '2022-05-05'],\n",
       "              dtype='datetime64[ns]', name='Date', length=2608, freq=None)"
      ]
     },
     "execution_count": 95,
     "metadata": {},
     "output_type": "execute_result"
    }
   ],
   "source": [
    "oro_df.index"
   ]
  },
  {
   "cell_type": "code",
   "execution_count": 96,
   "metadata": {},
   "outputs": [
    {
     "data": {
      "text/html": [
       "<div>\n",
       "<style scoped>\n",
       "    .dataframe tbody tr th:only-of-type {\n",
       "        vertical-align: middle;\n",
       "    }\n",
       "\n",
       "    .dataframe tbody tr th {\n",
       "        vertical-align: top;\n",
       "    }\n",
       "\n",
       "    .dataframe thead th {\n",
       "        text-align: right;\n",
       "    }\n",
       "</style>\n",
       "<table border=\"1\" class=\"dataframe\">\n",
       "  <thead>\n",
       "    <tr style=\"text-align: right;\">\n",
       "      <th></th>\n",
       "      <th>open</th>\n",
       "      <th>high</th>\n",
       "      <th>low</th>\n",
       "      <th>close</th>\n",
       "    </tr>\n",
       "    <tr>\n",
       "      <th>Date</th>\n",
       "      <th></th>\n",
       "      <th></th>\n",
       "      <th></th>\n",
       "      <th></th>\n",
       "    </tr>\n",
       "  </thead>\n",
       "  <tbody>\n",
       "    <tr>\n",
       "      <th>2012-05-07</th>\n",
       "      <td>40.35</td>\n",
       "      <td>40.66</td>\n",
       "      <td>40.25</td>\n",
       "      <td>40.33</td>\n",
       "    </tr>\n",
       "    <tr>\n",
       "      <th>2012-05-08</th>\n",
       "      <td>40.33</td>\n",
       "      <td>40.41</td>\n",
       "      <td>39.53</td>\n",
       "      <td>39.70</td>\n",
       "    </tr>\n",
       "    <tr>\n",
       "      <th>2012-05-09</th>\n",
       "      <td>39.71</td>\n",
       "      <td>39.75</td>\n",
       "      <td>39.18</td>\n",
       "      <td>39.54</td>\n",
       "    </tr>\n",
       "    <tr>\n",
       "      <th>2012-05-10</th>\n",
       "      <td>39.55</td>\n",
       "      <td>39.69</td>\n",
       "      <td>39.44</td>\n",
       "      <td>39.64</td>\n",
       "    </tr>\n",
       "    <tr>\n",
       "      <th>2012-05-11</th>\n",
       "      <td>39.64</td>\n",
       "      <td>39.66</td>\n",
       "      <td>39.18</td>\n",
       "      <td>39.33</td>\n",
       "    </tr>\n",
       "  </tbody>\n",
       "</table>\n",
       "</div>"
      ],
      "text/plain": [
       "             open   high    low  close\n",
       "Date                                  \n",
       "2012-05-07  40.35  40.66  40.25  40.33\n",
       "2012-05-08  40.33  40.41  39.53  39.70\n",
       "2012-05-09  39.71  39.75  39.18  39.54\n",
       "2012-05-10  39.55  39.69  39.44  39.64\n",
       "2012-05-11  39.64  39.66  39.18  39.33"
      ]
     },
     "execution_count": 96,
     "metadata": {},
     "output_type": "execute_result"
    }
   ],
   "source": [
    "oro_df.head()"
   ]
  },
  {
   "cell_type": "code",
   "execution_count": 97,
   "metadata": {},
   "outputs": [],
   "source": []
  },
  {
   "cell_type": "code",
   "execution_count": 98,
   "metadata": {},
   "outputs": [
    {
     "data": {
      "text/plain": [
       "<AxesSubplot:xlabel='Date', ylabel='close'>"
      ]
     },
     "execution_count": 98,
     "metadata": {},
     "output_type": "execute_result"
    },
    {
     "data": {
      "image/png": "[encoded data removed]",
      "text/plain": [
       "<Figure size 432x288 with 1 Axes>"
      ]
     },
     "metadata": {
      "needs_background": "light"
     },
     "output_type": "display_data"
    }
   ],
   "source": [
    "sns.scatterplot(x = oro_df.index, y = oro_df.close)"
   ]
  },
  {
   "cell_type": "markdown",
   "metadata": {},
   "source": [
    "## Feature Engeneering"
   ]
  },
  {
   "cell_type": "code",
   "execution_count": 99,
   "metadata": {},
   "outputs": [
    {
     "data": {
      "text/html": [
       "<div>\n",
       "<style scoped>\n",
       "    .dataframe tbody tr th:only-of-type {\n",
       "        vertical-align: middle;\n",
       "    }\n",
       "\n",
       "    .dataframe tbody tr th {\n",
       "        vertical-align: top;\n",
       "    }\n",
       "\n",
       "    .dataframe thead th {\n",
       "        text-align: right;\n",
       "    }\n",
       "</style>\n",
       "<table border=\"1\" class=\"dataframe\">\n",
       "  <thead>\n",
       "    <tr style=\"text-align: right;\">\n",
       "      <th></th>\n",
       "      <th>open</th>\n",
       "      <th>high</th>\n",
       "      <th>low</th>\n",
       "      <th>close</th>\n",
       "    </tr>\n",
       "    <tr>\n",
       "      <th>Date</th>\n",
       "      <th></th>\n",
       "      <th></th>\n",
       "      <th></th>\n",
       "      <th></th>\n",
       "    </tr>\n",
       "  </thead>\n",
       "  <tbody>\n",
       "    <tr>\n",
       "      <th>2012-05-07</th>\n",
       "      <td>40.35</td>\n",
       "      <td>40.66</td>\n",
       "      <td>40.25</td>\n",
       "      <td>40.33</td>\n",
       "    </tr>\n",
       "    <tr>\n",
       "      <th>2012-05-08</th>\n",
       "      <td>40.33</td>\n",
       "      <td>40.41</td>\n",
       "      <td>39.53</td>\n",
       "      <td>39.70</td>\n",
       "    </tr>\n",
       "    <tr>\n",
       "      <th>2012-05-09</th>\n",
       "      <td>39.71</td>\n",
       "      <td>39.75</td>\n",
       "      <td>39.18</td>\n",
       "      <td>39.54</td>\n",
       "    </tr>\n",
       "    <tr>\n",
       "      <th>2012-05-10</th>\n",
       "      <td>39.55</td>\n",
       "      <td>39.69</td>\n",
       "      <td>39.44</td>\n",
       "      <td>39.64</td>\n",
       "    </tr>\n",
       "    <tr>\n",
       "      <th>2012-05-11</th>\n",
       "      <td>39.64</td>\n",
       "      <td>39.66</td>\n",
       "      <td>39.18</td>\n",
       "      <td>39.33</td>\n",
       "    </tr>\n",
       "  </tbody>\n",
       "</table>\n",
       "</div>"
      ],
      "text/plain": [
       "             open   high    low  close\n",
       "Date                                  \n",
       "2012-05-07  40.35  40.66  40.25  40.33\n",
       "2012-05-08  40.33  40.41  39.53  39.70\n",
       "2012-05-09  39.71  39.75  39.18  39.54\n",
       "2012-05-10  39.55  39.69  39.44  39.64\n",
       "2012-05-11  39.64  39.66  39.18  39.33"
      ]
     },
     "execution_count": 99,
     "metadata": {},
     "output_type": "execute_result"
    }
   ],
   "source": [
    "oro_df.head()"
   ]
  },
  {
   "cell_type": "code",
   "execution_count": 100,
   "metadata": {},
   "outputs": [],
   "source": [
    "oro_df[\"delta\"] = oro_df.high - oro_df.low"
   ]
  },
  {
   "cell_type": "code",
   "execution_count": 101,
   "metadata": {},
   "outputs": [],
   "source": [
    "oro_df[\"mean_oro\"] = (oro_df.open + oro_df.close)/2"
   ]
  },
  {
   "cell_type": "code",
   "execution_count": 150,
   "metadata": {},
   "outputs": [],
   "source": [
    "oro_df[\"giorno\"] = oro_df.index.day\n",
    "oro_df[\"mese\"] = oro_df.index.month\n",
    "oro_df[\"anno\"] = oro_df.index.year"
   ]
  },
  {
   "cell_type": "code",
   "execution_count": 151,
   "metadata": {},
   "outputs": [
    {
     "data": {
      "text/html": [
       "<div>\n",
       "<style scoped>\n",
       "    .dataframe tbody tr th:only-of-type {\n",
       "        vertical-align: middle;\n",
       "    }\n",
       "\n",
       "    .dataframe tbody tr th {\n",
       "        vertical-align: top;\n",
       "    }\n",
       "\n",
       "    .dataframe thead th {\n",
       "        text-align: right;\n",
       "    }\n",
       "</style>\n",
       "<table border=\"1\" class=\"dataframe\">\n",
       "  <thead>\n",
       "    <tr style=\"text-align: right;\">\n",
       "      <th></th>\n",
       "      <th>open</th>\n",
       "      <th>high</th>\n",
       "      <th>low</th>\n",
       "      <th>close</th>\n",
       "      <th>delta</th>\n",
       "      <th>mean_oro</th>\n",
       "      <th>giorno</th>\n",
       "      <th>mese</th>\n",
       "      <th>anno</th>\n",
       "    </tr>\n",
       "    <tr>\n",
       "      <th>Date</th>\n",
       "      <th></th>\n",
       "      <th></th>\n",
       "      <th></th>\n",
       "      <th></th>\n",
       "      <th></th>\n",
       "      <th></th>\n",
       "      <th></th>\n",
       "      <th></th>\n",
       "      <th></th>\n",
       "    </tr>\n",
       "  </thead>\n",
       "  <tbody>\n",
       "    <tr>\n",
       "      <th>2012-05-07</th>\n",
       "      <td>40.35</td>\n",
       "      <td>40.66</td>\n",
       "      <td>40.25</td>\n",
       "      <td>40.33</td>\n",
       "      <td>0.41</td>\n",
       "      <td>40.340</td>\n",
       "      <td>7</td>\n",
       "      <td>5</td>\n",
       "      <td>2012</td>\n",
       "    </tr>\n",
       "    <tr>\n",
       "      <th>2012-05-08</th>\n",
       "      <td>40.33</td>\n",
       "      <td>40.41</td>\n",
       "      <td>39.53</td>\n",
       "      <td>39.70</td>\n",
       "      <td>0.88</td>\n",
       "      <td>40.015</td>\n",
       "      <td>8</td>\n",
       "      <td>5</td>\n",
       "      <td>2012</td>\n",
       "    </tr>\n",
       "    <tr>\n",
       "      <th>2012-05-09</th>\n",
       "      <td>39.71</td>\n",
       "      <td>39.75</td>\n",
       "      <td>39.18</td>\n",
       "      <td>39.54</td>\n",
       "      <td>0.57</td>\n",
       "      <td>39.625</td>\n",
       "      <td>9</td>\n",
       "      <td>5</td>\n",
       "      <td>2012</td>\n",
       "    </tr>\n",
       "    <tr>\n",
       "      <th>2012-05-10</th>\n",
       "      <td>39.55</td>\n",
       "      <td>39.69</td>\n",
       "      <td>39.44</td>\n",
       "      <td>39.64</td>\n",
       "      <td>0.25</td>\n",
       "      <td>39.595</td>\n",
       "      <td>10</td>\n",
       "      <td>5</td>\n",
       "      <td>2012</td>\n",
       "    </tr>\n",
       "    <tr>\n",
       "      <th>2012-05-11</th>\n",
       "      <td>39.64</td>\n",
       "      <td>39.66</td>\n",
       "      <td>39.18</td>\n",
       "      <td>39.33</td>\n",
       "      <td>0.48</td>\n",
       "      <td>39.485</td>\n",
       "      <td>11</td>\n",
       "      <td>5</td>\n",
       "      <td>2012</td>\n",
       "    </tr>\n",
       "  </tbody>\n",
       "</table>\n",
       "</div>"
      ],
      "text/plain": [
       "             open   high    low  close  delta  mean_oro  giorno  mese  anno\n",
       "Date                                                                       \n",
       "2012-05-07  40.35  40.66  40.25  40.33   0.41    40.340       7     5  2012\n",
       "2012-05-08  40.33  40.41  39.53  39.70   0.88    40.015       8     5  2012\n",
       "2012-05-09  39.71  39.75  39.18  39.54   0.57    39.625       9     5  2012\n",
       "2012-05-10  39.55  39.69  39.44  39.64   0.25    39.595      10     5  2012\n",
       "2012-05-11  39.64  39.66  39.18  39.33   0.48    39.485      11     5  2012"
      ]
     },
     "execution_count": 151,
     "metadata": {},
     "output_type": "execute_result"
    }
   ],
   "source": [
    "oro_df.head()"
   ]
  },
  {
   "cell_type": "code",
   "execution_count": 103,
   "metadata": {},
   "outputs": [],
   "source": [
    "X = oro_df.index"
   ]
  },
  {
   "cell_type": "code",
   "execution_count": 153,
   "metadata": {},
   "outputs": [
    {
     "data": {
      "text/plain": [
       "array([[   7,    5, 2012],\n",
       "       [   8,    5, 2012],\n",
       "       [   9,    5, 2012],\n",
       "       ...,\n",
       "       [   3,    5, 2022],\n",
       "       [   4,    5, 2022],\n",
       "       [   5,    5, 2022]], dtype=int64)"
      ]
     },
     "execution_count": 153,
     "metadata": {},
     "output_type": "execute_result"
    }
   ],
   "source": [
    "X = oro_df.loc[:, [\"giorno\", \"mese\", \"anno\"]].to_numpy()\n",
    "X"
   ]
  },
  {
   "cell_type": "code",
   "execution_count": 154,
   "metadata": {},
   "outputs": [],
   "source": [
    "y = oro_df.reset_index().mean_oro"
   ]
  },
  {
   "cell_type": "code",
   "execution_count": 155,
   "metadata": {},
   "outputs": [
    {
     "data": {
      "text/plain": [
       "0       40.340\n",
       "1       40.015\n",
       "2       39.625\n",
       "3       39.595\n",
       "4       39.485\n",
       "         ...  \n",
       "2603    57.940\n",
       "2604    57.405\n",
       "2605    57.045\n",
       "2606    56.995\n",
       "2607    57.130\n",
       "Name: mean_oro, Length: 2608, dtype: float64"
      ]
     },
     "execution_count": 155,
     "metadata": {},
     "output_type": "execute_result"
    }
   ],
   "source": [
    "y"
   ]
  },
  {
   "cell_type": "code",
   "execution_count": 157,
   "metadata": {},
   "outputs": [
    {
     "data": {
      "text/plain": [
       "((2608, 3), (2608,))"
      ]
     },
     "execution_count": 157,
     "metadata": {},
     "output_type": "execute_result"
    }
   ],
   "source": [
    "X.shape, y.shape"
   ]
  },
  {
   "cell_type": "code",
   "execution_count": 158,
   "metadata": {},
   "outputs": [],
   "source": [
    "X_train, X_test, y_train, y_test = train_test_split(X, y, random_state=SEED)"
   ]
  },
  {
   "cell_type": "code",
   "execution_count": 159,
   "metadata": {},
   "outputs": [
    {
     "data": {
      "text/plain": [
       "((1956, 3), (652, 3), (1956,), (652,))"
      ]
     },
     "execution_count": 159,
     "metadata": {},
     "output_type": "execute_result"
    }
   ],
   "source": [
    "X_train.shape, X_test.shape, y_train.shape, y_test.shape"
   ]
  },
  {
   "cell_type": "code",
   "execution_count": 160,
   "metadata": {},
   "outputs": [],
   "source": [
    "linear_model = LinearRegression()"
   ]
  },
  {
   "cell_type": "code",
   "execution_count": 161,
   "metadata": {},
   "outputs": [
    {
     "data": {
      "text/plain": [
       "LinearRegression()"
      ]
     },
     "execution_count": 161,
     "metadata": {},
     "output_type": "execute_result"
    }
   ],
   "source": [
    "linear_model.fit(X_train, y_train)"
   ]
  },
  {
   "cell_type": "code",
   "execution_count": 165,
   "metadata": {},
   "outputs": [
    {
     "data": {
      "text/plain": [
       "(array([5.45978252e-04, 1.17823132e-01, 1.70211602e+00]), -3394.6338219214845)"
      ]
     },
     "execution_count": 165,
     "metadata": {},
     "output_type": "execute_result"
    }
   ],
   "source": [
    "linear_model.coef_, linear_model.intercept_"
   ]
  },
  {
   "cell_type": "code",
   "execution_count": 164,
   "metadata": {},
   "outputs": [
    {
     "data": {
      "text/plain": [
       "0.5006899036328079"
      ]
     },
     "execution_count": 164,
     "metadata": {},
     "output_type": "execute_result"
    }
   ],
   "source": [
    "linear_model.score(X_test, y_test)"
   ]
  },
  {
   "cell_type": "code",
   "execution_count": 181,
   "metadata": {},
   "outputs": [],
   "source": [
    "y_predicted = linear_model.predict(X)"
   ]
  },
  {
   "cell_type": "code",
   "execution_count": 185,
   "metadata": {},
   "outputs": [
    {
     "data": {
      "text/plain": [
       "[<matplotlib.lines.Line2D at 0x29157673430>]"
      ]
     },
     "execution_count": 185,
     "metadata": {},
     "output_type": "execute_result"
    },
    {
     "data": {
      "image/png": "[encoded data removed]",
      "text/plain": [
       "<Figure size 432x288 with 1 Axes>"
      ]
     },
     "metadata": {
      "needs_background": "light"
     },
     "output_type": "display_data"
    }
   ],
   "source": [
    "plt.plot(oro_df.index, y)\n",
    "plt.plot(oro_df.index, y_predicted)"
   ]
  },
  {
   "cell_type": "code",
   "execution_count": 174,
   "metadata": {},
   "outputs": [
    {
     "data": {
      "text/plain": [
       "array([2012, 2012, 2012, ..., 2022, 2022, 2022], dtype=int64)"
      ]
     },
     "execution_count": 174,
     "metadata": {},
     "output_type": "execute_result"
    }
   ],
   "source": [
    "X[:,2]"
   ]
  },
  {
   "cell_type": "code",
   "execution_count": 179,
   "metadata": {},
   "outputs": [
    {
     "data": {
      "text/plain": [
       "(1336348800000000000, 1336435200000000000)"
      ]
     },
     "execution_count": 179,
     "metadata": {},
     "output_type": "execute_result"
    }
   ],
   "source": [
    "oro_df.index[0].value, oro_df.index[1].value"
   ]
  }
 ],
 "metadata": {
  "kernelspec": {
   "display_name": "Python 3 (ipykernel)",
   "language": "python",
   "name": "python3"
  },
  "language_info": {
   "codemirror_mode": {
    "name": "ipython",
    "version": 3
   },
   "file_extension": ".py",
   "mimetype": "text/x-python",
   "name": "python",
   "nbconvert_exporter": "python",
   "pygments_lexer": "ipython3",
   "version": "3.9.7"
  },
  "toc": {
   "base_numbering": 1,
   "nav_menu": {},
   "number_sections": true,
   "sideBar": true,
   "skip_h1_title": false,
   "title_cell": "Table of Contents",
   "title_sidebar": "Contents",
   "toc_cell": false,
   "toc_position": {},
   "toc_section_display": true,
   "toc_window_display": false
  },
  "varInspector": {
   "cols": {
    "lenName": 16,
    "lenType": 16,
    "lenVar": 40
   },
   "kernels_config": {
    "python": {
     "delete_cmd_postfix": "",
     "delete_cmd_prefix": "del ",
     "library": "var_list.py",
     "varRefreshCmd": "print(var_dic_list())"
    },
    "r": {
     "delete_cmd_postfix": ") ",
     "delete_cmd_prefix": "rm(",
     "library": "var_list.r",
     "varRefreshCmd": "cat(var_dic_list()) "
    }
   },
   "types_to_exclude": [
    "module",
    "function",
    "builtin_function_or_method",
    "instance",
    "_Feature"
   ],
   "window_display": false
  }
 },
 "nbformat": 4,
 "nbformat_minor": 1
}